{
 "cells": [
  {
   "cell_type": "code",
   "execution_count": null,
   "metadata": {},
   "outputs": [],
   "source": [
    "import pandas as pd\n",
    "import pickle\n",
    "import seaborn as sns\n",
    "import csv\n",
    "import matplotlib.pyplot as plt\n",
    "import numpy as np\n",
    "from sklearn.model_selection import KFold , cross_val_score\n",
    "from sklearn import metrics \n",
    "from matplotlib import pyplot as plt\n",
    "from numpy import mean\n",
    "from numpy import absolute\n",
    "from sklearn.linear_model import LogisticRegression\n",
    "from sklearn.metrics import precision_recall_curve\n",
    "from sklearn.metrics import auc\n",
    "from matplotlib import pyplot\n",
    "from tensorflow.keras.models import load_model\n",
    "from sklearn.metrics import log_loss, roc_auc_score, recall_score, precision_score, average_precision_score, f1_score, classification_report, accuracy_score, plot_roc_curve, plot_precision_recall_curve, plot_confusion_matrix"
   ]
  },
  {
   "cell_type": "code",
   "execution_count": null,
   "metadata": {},
   "outputs": [],
   "source": [
    "\"\"\"\n",
    "function calculate metrics for dte, logreg, svm\n",
    "returns scores\n",
    "\"\"\"\n",
    "def calculateMetrics(clf, X_test, y_test):\n",
    "    k = 5\n",
    "    cv = KFold(n_splits=k, random_state=None)\n",
    "\n",
    "    scores_a = cross_val_score(clf, X_test, y_test, scoring='accuracy', cv=cv, n_jobs=-1)\n",
    "    accuracy = mean(scores_a)\n",
    "\n",
    "    scores_p = cross_val_score(clf, X_test, y_test, scoring='precision', cv=cv, n_jobs=-1)\n",
    "    precision = mean(scores_p)\n",
    "\n",
    "    scores_r = cross_val_score(clf, X_test, y_test, scoring='recall', cv=cv, n_jobs=-1)\n",
    "    recall = mean(scores_r)\n",
    "\n",
    "    scores_f1 = cross_val_score(clf, X_test, y_test, scoring='f1', cv=cv, n_jobs=-1)\n",
    "    f1 = mean(scores_f1)\n",
    "\n",
    "    # print(\"Accuracy: %.8f\" %accuracy)\n",
    "    # print(\"Precision: %.8f\" %precision)\n",
    "    # print(\"Recall: %.8f\" %recall)\n",
    "    # print(\"F1: %.8f\" %f1)\n",
    "\n",
    "    return accuracy, precision, recall, f1\n",
    "\n",
    "\"\"\"\n",
    "function calculates metrics for the nn model\n",
    "returns scores\n",
    "\"\"\"\n",
    "def calculateMetricsNN(clf, X_test, y_test):\n",
    "    predicted = clf.predict(X_test, verbose=0)\n",
    "    predicted_classes =  (clf.predict(X_test) > 0.5).astype(\"int32\")\n",
    "    \n",
    "    # reduce to 1d array\n",
    "    predicted = predicted[:, 0]\n",
    "    predicted_classes = predicted_classes[:, 0]\n",
    "\n",
    "    accuracy = accuracy_score(y_test, predicted_classes)\n",
    "    precision = precision_score(y_test, predicted_classes)\n",
    "    recall = recall_score(y_test, predicted_classes)\n",
    "    f1 = f1_score(y_test, predicted_classes)\n",
    "\n",
    "    # print(\"Accuracy: %.8f\" %accuracy)\n",
    "    # print(\"Precision: %.8f\" %precision)\n",
    "    # print(\"Recall: %.8f\" %recall)\n",
    "    # print(\"F1: %.8f\" %f1)\n",
    "\n",
    "    return accuracy, precision, recall, f1, predicted, predicted_classes\n",
    "\n",
    "\"\"\"\n",
    "function calculates featureImportance\n",
    "\n",
    "\"\"\"\n",
    "def featureImportance(clf):\n",
    "    featureImportance= pd.DataFrame(columns=['Feature', 'Score'])\n",
    "\n",
    "    importance = clf.feature_importances_\n",
    "    for p,v in enumerate(importance):\n",
    "        featureImportance = featureImportance.append({'Feature':p,'Score': v}, ignore_index=True)\n",
    "    plt.figure(figsize=(20, 5))\n",
    "    ax = sns.barplot(x=featureImportance.Feature, y=featureImportance.Score, data=featureImportance, color='#00338d')\n",
    "\n",
    "    # save to csv\n",
    "    featureImportance.to_csv('featureImportance_dte.csv')\n",
    "\n",
    "\"\"\"\n",
    "plot confusion matric\n",
    "\"\"\"\n",
    "def confusionMatrix(y_test, predicted, clf, X_test):\n",
    "    #print(metrics.confusion_matrix(y_test, predicted))\n",
    "    plot_confusion_matrix(clf, X_test, y_test)  \n",
    "    plt.show()\n",
    "\n",
    "\"\"\"\n",
    "predict y\n",
    "\"\"\"\n",
    "def predictX(clf, X_test):\n",
    "    predicted = clf.predict(X_test)\n",
    "    return predicted\n",
    "\n",
    "\"\"\"\n",
    "get probability\n",
    "\"\"\"\n",
    "def getProbability(clf, X_test):\n",
    "    probability = clf.predict_proba(X_test)\n",
    "    t = probability[:,:1].tolist()\n",
    "    df_prob = pd.DataFrame(t)\n",
    "    return df_prob\n",
    "\n",
    "\"\"\"\n",
    "plot precision recall curve\n",
    "\"\"\"\n",
    "def precision_recall_curve(y_test, df_prob):\n",
    "    lr_precision, lr_recall, _ = precision_recall_curve(y_test, df_prob)    \n",
    "    \n",
    "    # plot the precision-recall curves\n",
    "    no_skill = len(y_test[y_test==1]) / len(y_test)\n",
    "    pyplot.plot([0, 1], [no_skill, no_skill], linestyle='--', label='No Skill')\n",
    "    pyplot.plot(lr_recall, lr_precision, marker='.')\n",
    "    pyplot.xlabel('Recall')\n",
    "    pyplot.ylabel('Precision')\n",
    "    pyplot.legend()\n",
    "    pyplot.show()\n",
    "     \n"
   ]
  },
  {
   "cell_type": "markdown",
   "metadata": {},
   "source": [
    "Decision Tree"
   ]
  },
  {
   "cell_type": "code",
   "execution_count": null,
   "metadata": {},
   "outputs": [],
   "source": [
    "# load\n",
    "DTE_model = pickle.load(open('../02_decisionTree/DecisionTreemodel_3months.pkl', 'rb'))\n",
    "X_test_DTE = pickle.load(open('../02_decisionTree/X_test_3months.pkl', 'rb'))\n",
    "y_test_DTE = pickle.load(open('../02_decisionTree/y_test_3months.pkl', 'rb'))\n",
    "\n",
    "# get scores and prediction\n",
    "accuracy, precision, recall, f1 = calculateMetrics(DTE_model, X_test_DTE, y_test_DTE)\n",
    "predicted = predictX(DTE_model, X_test_DTE)\n",
    "\n",
    "# plot confusion matrix\n",
    "confusionMatrix(y_test_DTE, predicted, DTE_model, X_test_DTE)\n",
    "\n",
    "# plot feature importance\n",
    "featureImportance(DTE_model)"
   ]
  },
  {
   "cell_type": "markdown",
   "metadata": {},
   "source": [
    "Logistic Regression"
   ]
  },
  {
   "cell_type": "code",
   "execution_count": null,
   "metadata": {},
   "outputs": [],
   "source": [
    "# load\n",
    "logreg_model = pickle.load(open('../03_logisticRegression/Logregmodel_3months.pkl', 'rb'))\n",
    "X_test_logreg = pickle.load(open('../03_logisticRegression/X_test_3months.pkl', 'rb'))\n",
    "y_test_logreg = pickle.load(open('../03_logisticRegression/y_test_3months.pkl', 'rb'))\n",
    "\n",
    "# get scores and prediction\n",
    "accuracy, precision, recall, f1 = calculateMetrics(logreg_model, X_test_logreg, y_test_logreg)\n",
    "predicted = predictX(logreg_model, X_test_logreg)\n",
    "\n",
    "# plot confusion matrix\n",
    "confusionMatrix(y_test_logreg, predicted, logreg_model, X_test_logreg)\n",
    "\n",
    "# plot histogram with porbabilities\n",
    "df_prob = pickle.load(open('../03_logisticRegression/df_prob_3months.pkl', 'rb'))\n",
    "sns.histplot(data=df_prob, x=df_prob[0], palette=\"dark:#5A9_r\")"
   ]
  },
  {
   "cell_type": "markdown",
   "metadata": {},
   "source": [
    "SVM"
   ]
  },
  {
   "cell_type": "code",
   "execution_count": null,
   "metadata": {},
   "outputs": [],
   "source": [
    "# load\n",
    "svm_model = pickle.load(open('../04_svm/SVMmodel_3months.pkl', 'rb'))\n",
    "X_test_svm = pickle.load(open('../04_svm/X_test_3months.pkl', 'rb'))\n",
    "y_test_svm = pickle.load(open('../04_svm/y_test_3months.pkl', 'rb'))\n",
    "\n",
    "# get scores and prediction\n",
    "accuracy, precision, recall, f1 = calculateMetrics(svm_model, X_test_svm, y_test_svm)\n",
    "predicted = predictX(svm_model, X_test_svm)\n",
    "\n",
    "# plot confusion matrix\n",
    "confusionMatrix(y_test_svm, predicted, svm_model, X_test_svm)"
   ]
  },
  {
   "cell_type": "markdown",
   "metadata": {},
   "source": [
    "Neural Network"
   ]
  },
  {
   "cell_type": "code",
   "execution_count": null,
   "metadata": {},
   "outputs": [],
   "source": [
    "# load\n",
    "nn_model = load_model('../05_nn/nn_3months/')\n",
    "X_test_nn = pickle.load(open('../05_nn/X_test_3months.pkl', 'rb'))\n",
    "y_test_nn = pickle.load(open('../05_nn/y_test_3months.pkl', 'rb'))\n",
    "\n",
    "# get scores and prediction\n",
    "accuracy, precision, recall, f1, predicted, predicted_classes = calculateMetricsNN(nn_model, X_test_nn, y_test_nn)\n",
    "\n",
    "# plot confusion matrix\n",
    "cm = metrics.confusion_matrix(y_test_nn, predicted_classes)\n",
    "f = sns.heatmap(cm, annot=True, fmt='d')"
   ]
  }
 ],
 "metadata": {
  "kernelspec": {
   "display_name": "Python 3.10.2 64-bit",
   "language": "python",
   "name": "python3"
  },
  "language_info": {
   "codemirror_mode": {
    "name": "ipython",
    "version": 3
   },
   "file_extension": ".py",
   "mimetype": "text/x-python",
   "name": "python",
   "nbconvert_exporter": "python",
   "pygments_lexer": "ipython3",
   "version": "3.10.2"
  },
  "orig_nbformat": 4,
  "vscode": {
   "interpreter": {
    "hash": "369f2c481f4da34e4445cda3fffd2e751bd1c4d706f27375911949ba6bb62e1c"
   }
  }
 },
 "nbformat": 4,
 "nbformat_minor": 2
}
