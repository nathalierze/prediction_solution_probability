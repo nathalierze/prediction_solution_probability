{
 "cells": [
  {
   "cell_type": "code",
   "execution_count": null,
   "metadata": {},
   "outputs": [],
   "source": [
    "import pandas as pd\n",
    "import pickle\n",
    "from sklearn.model_selection import train_test_split \n",
    "from sklearn import metrics \n",
    "from sklearn.model_selection import cross_val_score\n",
    "from sklearn.model_selection import KFold\n",
    "from numpy import mean\n",
    "from numpy import absolute\n",
    "from sklearn.model_selection import train_test_split\n",
    "from sklearn.linear_model import LogisticRegression\n",
    "from sklearn import svm\n",
    "from sklearn.svm import SVC\n",
    "from sklearn.model_selection import cross_val_score, KFold, train_test_split"
   ]
  },
  {
   "cell_type": "code",
   "execution_count": null,
   "metadata": {},
   "outputs": [],
   "source": [
    "# load data\n",
    "infile = open('../01_data/FINALsmallSampleSet_3months_without_duplicates.pkl','rb')\n",
    "df = pickle.load(infile)\n",
    "infile.close()"
   ]
  },
  {
   "cell_type": "code",
   "execution_count": null,
   "metadata": {},
   "outputs": [],
   "source": [
    "# SVM\n",
    "\n",
    "# prepare features\n",
    "feature_cols = list(df.columns)\n",
    "feature_cols.remove('Erfolg')\n",
    "\n",
    "X = df[feature_cols]\n",
    "y = df.Erfolg\n",
    "y= y.astype('int')\n",
    "\n",
    "# train test split\n",
    "X_train, X_test, y_train, y_test = train_test_split(X, y, test_size=0.3, random_state=1)\n",
    "k = 5\n",
    "cv = KFold(n_splits=k, random_state=None)\n",
    "\n",
    "# fit\n",
    "clf = SVC(kernel='linear',gamma=1, probability=True)\n",
    "clf = clf.fit(X_train,y_train)\n",
    "\n",
    "# calculate scores\n",
    "scores_a = cross_val_score(clf, X_test, y_test, scoring='accuracy', cv=cv, n_jobs=-1)\n",
    "a = mean(scores_a)\n",
    "\n",
    "scores_p = cross_val_score(clf, X_test, y_test, scoring='precision', cv=cv, n_jobs=-1)\n",
    "p = mean(scores_p)\n",
    "\n",
    "scores_r = cross_val_score(clf, X_test, y_test, scoring='recall', cv=cv, n_jobs=-1)\n",
    "r = mean(scores_r)\n",
    "\n",
    "scores_f1 = cross_val_score(clf, X_test, y_test, scoring='f1', cv=cv, n_jobs=-1)\n",
    "f1 = mean(scores_f1)\n",
    "\n",
    "# predict\n",
    "pred = clf.predict(X_test)\n",
    "probs = clf.predict_proba(X_test)"
   ]
  },
  {
   "cell_type": "code",
   "execution_count": null,
   "metadata": {},
   "outputs": [],
   "source": [
    "# print scores\n",
    "print(\"Accuracy: %.8f\" %a)\n",
    "print(\"Precision: %.8f\" %p)\n",
    "print(\"Recall: %.8f\" %r)\n",
    "print(\"F1: %.8f\" %f1)"
   ]
  },
  {
   "cell_type": "code",
   "execution_count": null,
   "metadata": {},
   "outputs": [],
   "source": [
    "# print confusion matrix\n",
    "metrics.confusion_matrix(y_test, pred)"
   ]
  },
  {
   "cell_type": "code",
   "execution_count": null,
   "metadata": {},
   "outputs": [],
   "source": [
    "# save probabilites to df\n",
    "t = probs[:,:1].tolist()\n",
    "data_df = pd.DataFrame(t)"
   ]
  },
  {
   "cell_type": "code",
   "execution_count": null,
   "metadata": {},
   "outputs": [],
   "source": [
    "# dump as pickle \n",
    "pickle.dump(clf, open('SVMmodel_3months.pkl', 'wb'))\n",
    "pickle.dump(X_train, open('X_train_3months.pkl', 'wb'))\n",
    "pickle.dump(X_test, open('X_test_3months.pkl', 'wb'))\n",
    "pickle.dump(y_train, open('y_train_3months.pkl', 'wb'))\n",
    "pickle.dump(y_test, open('y_test_3months.pkl', 'wb'))\n",
    "pickle.dump(data_df, open('df_prob_3months.pkl', 'wb'))"
   ]
  }
 ],
 "metadata": {
  "kernelspec": {
   "display_name": "Python 3",
   "language": "python",
   "name": "python3"
  },
  "language_info": {
   "codemirror_mode": {
    "name": "ipython",
    "version": 3
   },
   "file_extension": ".py",
   "mimetype": "text/x-python",
   "name": "python",
   "nbconvert_exporter": "python",
   "pygments_lexer": "ipython3",
   "version": "3.10.2"
  },
  "orig_nbformat": 4,
  "vscode": {
   "interpreter": {
    "hash": "369f2c481f4da34e4445cda3fffd2e751bd1c4d706f27375911949ba6bb62e1c"
   }
  }
 },
 "nbformat": 4,
 "nbformat_minor": 2
}
