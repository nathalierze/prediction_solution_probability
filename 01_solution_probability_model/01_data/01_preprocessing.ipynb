{
 "cells": [
  {
   "cell_type": "code",
   "execution_count": 1,
   "metadata": {},
   "outputs": [],
   "source": [
    "import pandas as pd\n",
    "import pickle\n",
    "import seaborn as sns\n",
    "import numpy as np\n",
    "path = '#'"
   ]
  },
  {
   "attachments": {},
   "cell_type": "markdown",
   "metadata": {},
   "source": [
    "Students"
   ]
  },
  {
   "cell_type": "code",
   "execution_count": 3,
   "metadata": {},
   "outputs": [],
   "source": [
    "infile = open(path+'schueler2020only.pkl','rb')\n",
    "schueler = pickle.load(infile)\n",
    "infile.close()\n",
    "schueler = schueler[['ID','Geschlecht','Klassenstufe','Anmeldeklassenstufe']]"
   ]
  },
  {
   "cell_type": "code",
   "execution_count": 4,
   "metadata": {},
   "outputs": [],
   "source": [
    "schueler.rename(columns = {'ID':'UserID'}, inplace = True)\n",
    "#Gender: clean\n",
    "schueler['Geschlecht'] = schueler['Geschlecht'].replace(['m.'],'m')\n",
    "schueler['Geschlecht'] = schueler['Geschlecht'].replace(['w.','we', 'WO m'],'w')\n",
    "schueler['Geschlecht'] = schueler['Geschlecht'].replace(['d','wm'],np.nan)\n",
    "\n",
    "#Class level: only 5-12\n",
    "options = ['5', '6','7','8','9','10','11','12'] \n",
    "schueler = schueler[schueler['Klassenstufe'].isin(options)] \n",
    "schueler['Klassenstufe'] = schueler['Klassenstufe'].astype('int')\n",
    "\n",
    "#Jahredabei: create new column\n",
    "schueler = schueler[schueler['Anmeldeklassenstufe'].isin(options)] \n",
    "schueler['Anmeldeklassenstufe'] = schueler['Anmeldeklassenstufe'].astype('int')\n",
    "schueler['Jahredabei'] = schueler['Klassenstufe'] - schueler['Anmeldeklassenstufe']\n",
    "\n",
    "#Gender Dummy\n",
    "dummy_Geschlecht = pd.get_dummies(schueler['Geschlecht'], prefix='Sex_')\n",
    "schueler = pd.merge(left=schueler, right=dummy_Geschlecht,left_index=True,right_index=True)\n",
    "\n",
    "# Drop collumn \n",
    "schueler= schueler.drop(columns=['Anmeldeklassenstufe','Geschlecht'])"
   ]
  },
  {
   "attachments": {},
   "cell_type": "markdown",
   "metadata": {},
   "source": [
    "Session summary"
   ]
  },
  {
   "cell_type": "code",
   "execution_count": 5,
   "metadata": {},
   "outputs": [],
   "source": [
    "infile = open(path+'sitzungssummary.pkl','rb')\n",
    "sitzungen = pickle.load(infile)\n",
    "infile.close()\n",
    "sitzungen = sitzungen [['ID','UserID','UserAttribut','Art','HA','beendet','Fehler']]"
   ]
  },
  {
   "cell_type": "code",
   "execution_count": 6,
   "metadata": {},
   "outputs": [],
   "source": [
    "sitzungen = sitzungen.dropna()\n",
    "sitzungen.rename(columns = {'ID':'UebungsID'}, inplace = True)\n",
    "\n",
    "# Userattribut: only students\n",
    "options = ['Schüler'] \n",
    "sitzungen = sitzungen[sitzungen['UserAttribut'].isin(options)] \n",
    "\n",
    "#HA: cleaning\n",
    "sitzungen['HA'] = sitzungen['HA'].replace(['frHA'],'Self')\n",
    "\n",
    "#Art: only GK\n",
    "options = ['GK'] \n",
    "sitzungen = sitzungen[sitzungen['Art'].isin(options)] \n",
    "sitzungen = sitzungen.reset_index()\n",
    "sitzungen = sitzungen.drop(columns=['UserAttribut','Art','index'])\n",
    "\n",
    "#HA\n",
    "dummy_HA = pd.get_dummies(sitzungen['HA'], prefix='HA_')\n",
    "sitzungen = pd.merge(left=sitzungen, right=dummy_HA,left_index=True,right_index=True)\n",
    "sitzungen = sitzungen.drop(columns=['HA'])\n"
   ]
  },
  {
   "attachments": {},
   "cell_type": "markdown",
   "metadata": {},
   "source": [
    "Merge Session and Students"
   ]
  },
  {
   "cell_type": "code",
   "execution_count": 7,
   "metadata": {},
   "outputs": [],
   "source": [
    "sitzungen_schueler = pd.merge(left=sitzungen, right=schueler, how='left', on='UserID')\n",
    "sitzungen_schueler = sitzungen_schueler.dropna()\n",
    "sitzungen_schueler.to_pickle('sitzungen_schueler_preprocessed.pkl')"
   ]
  },
  {
   "cell_type": "markdown",
   "metadata": {},
   "source": [
    "Saetze"
   ]
  },
  {
   "cell_type": "code",
   "execution_count": 9,
   "metadata": {},
   "outputs": [],
   "source": [
    "infile = open(path+'saetze.pkl','rb')\n",
    "saetze = pickle.load(infile)\n",
    "infile.close()\n",
    "saetze = saetze[['satzID','Schwierigkeit','Art','AufgabenID']]"
   ]
  },
  {
   "cell_type": "code",
   "execution_count": 10,
   "metadata": {},
   "outputs": [],
   "source": [
    "#Art: only GK\n",
    "options = ['GK'] \n",
    "saetze = saetze[saetze['Art'].isin(options)] \n",
    "\n",
    "#Filter out Kompetenztests (Aufgaben ID =0)\n",
    "options = ['0'] \n",
    "saetze = saetze[~saetze['AufgabenID'].isin(options)] "
   ]
  },
  {
   "cell_type": "markdown",
   "metadata": {},
   "source": [
    "XMLsaetze"
   ]
  },
  {
   "cell_type": "code",
   "execution_count": 11,
   "metadata": {},
   "outputs": [],
   "source": [
    "infile = open(path+'xmlsaetze.pkl','rb')\n",
    "xmlsaetze = pickle.load(infile)\n",
    "infile.close()\n",
    "xmlsaetze = xmlsaetze[['ID','UserID','UebungsID','Testposition','SatzID','Erstloesung','Schussel','Datum', 'Erfolg','Loesungsnr']]\n",
    "\n",
    "infile = open(path+'xmlsaetze_archiv.pkl','rb')\n",
    "xmlsaetze_archiv = pickle.load(infile)\n",
    "infile.close()\n",
    "xmlsaetze_archiv = xmlsaetze_archiv[['ID','UserID','UebungsID','Testposition','SatzID','Erstloesung','Schussel','Datum', 'Erfolg','Loesungsnr']]\n",
    "\n",
    "xmlsaetze = xmlsaetze.append(xmlsaetze_archiv)"
   ]
  },
  {
   "cell_type": "code",
   "execution_count": 12,
   "metadata": {},
   "outputs": [],
   "source": [
    "#Merge xmlsaetze and saetze\n",
    "xmlsaetze.rename(columns = {'SatzID':'satzID'}, inplace = True)\n",
    "xmlsaetze= pd.merge(xmlsaetze, saetze, on='satzID', how='inner')\n",
    "\n",
    "# Create date fields\n",
    "xmlsaetze['Datum']= pd.to_datetime(xmlsaetze['Datum'])\n",
    "xmlsaetze['Uhrzeit'] = pd.DatetimeIndex(xmlsaetze['Datum']).hour\n",
    "xmlsaetze['Wochentag'] = pd.DatetimeIndex(xmlsaetze['Datum']).dayofweek\n",
    "xmlsaetze['Kalenderwoche'] = pd.DatetimeIndex(xmlsaetze['Datum']).strftime(\"%V\")\n",
    "xmlsaetze['Monat'] = pd.DatetimeIndex(xmlsaetze['Datum']).month\n",
    "xmlsaetze['Tag'] = pd.DatetimeIndex(xmlsaetze['Datum']).day\n",
    "\n",
    "\"\"\"\n",
    "returns 1 if task was processed during school lessons\n",
    "\"\"\"\n",
    "def is_lesson(row):\n",
    "    if row['Uhrzeit'] > 14:\n",
    "        val = 0\n",
    "    elif row['Uhrzeit'] < 8:\n",
    "        val = 0\n",
    "    else:\n",
    "        val = 1\n",
    "    return val\n",
    "\n",
    "xmlsaetze['ist_Schulzeit'] = xmlsaetze.apply(is_lesson, axis=1)\n",
    "\n",
    "# variable mehrfach falsch\n",
    "xmlsaetze['Loesungsnr']=xmlsaetze['Loesungsnr'].str.split()\n",
    "xmlsaetze['MehrfachFalsch'] = xmlsaetze['Loesungsnr'].str.len()\n",
    "xmlsaetze['MehrfachFalsch'] = xmlsaetze['MehrfachFalsch'].replace([np.nan],0)\n",
    "xmlsaetze['MehrfachFalsch'] = xmlsaetze['MehrfachFalsch'].astype('int')\n",
    "xmlsaetze['MehrfachFalsch'] = xmlsaetze['MehrfachFalsch'] - 1\n",
    "xmlsaetze=xmlsaetze.drop(columns='Loesungsnr')\n",
    "\n",
    "sitzungen_schueler_uebID = sitzungen_schueler.UebungsID\n",
    "xmlsaetze_GK = xmlsaetze[xmlsaetze['UebungsID'].isin(sitzungen_schueler_uebID)] \n",
    "\n",
    "#get dummies on Testposition\n",
    "dummy_testposition = pd.get_dummies(xmlsaetze_GK['Testposition'], prefix='Testposition_')\n",
    "\n",
    "# merge\n",
    "xmlsaetze_GK = pd.merge(left=xmlsaetze_GK, right=dummy_testposition,left_index=True,right_index=True)\n",
    "xmlsaetze_GK = xmlsaetze_GK.drop(columns=['Testposition'])\n",
    "xmlsaetze_GK.to_pickle('xmlsaetze_GK_preprocessed.pkl')"
   ]
  },
  {
   "cell_type": "code",
   "execution_count": 14,
   "metadata": {},
   "outputs": [],
   "source": [
    "# Merge xmlsaetze and sitzungen on uebungsid / id\n",
    "final_data =pd.merge(left=xmlsaetze_GK, right=sitzungen_schueler, on='UebungsID', how='left')\n",
    "final_data = final_data.drop(columns='UserID_y')\n",
    "final_data.rename(columns = {'UserID_x':'UserID'}, inplace = True)\n",
    "final_data.to_pickle('final_data_preprocessed.pkl')"
   ]
  }
 ],
 "metadata": {
  "kernelspec": {
   "display_name": "Python 3.10.2 64-bit",
   "language": "python",
   "name": "python3"
  },
  "language_info": {
   "codemirror_mode": {
    "name": "ipython",
    "version": 3
   },
   "file_extension": ".py",
   "mimetype": "text/x-python",
   "name": "python",
   "nbconvert_exporter": "python",
   "pygments_lexer": "ipython3",
   "version": "3.10.2 (tags/v3.10.2:a58ebcc, Jan 17 2022, 14:12:15) [MSC v.1929 64 bit (AMD64)]"
  },
  "orig_nbformat": 4,
  "vscode": {
   "interpreter": {
    "hash": "369f2c481f4da34e4445cda3fffd2e751bd1c4d706f27375911949ba6bb62e1c"
   }
  }
 },
 "nbformat": 4,
 "nbformat_minor": 2
}
