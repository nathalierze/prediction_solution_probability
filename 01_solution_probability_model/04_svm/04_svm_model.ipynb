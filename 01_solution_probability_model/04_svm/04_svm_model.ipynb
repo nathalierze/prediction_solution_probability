{
 "cells": [
  {
   "cell_type": "code",
   "execution_count": 4,
   "metadata": {},
   "outputs": [],
   "source": [
    "import pandas as pd\n",
    "import pickle\n",
    "from sklearn.model_selection import train_test_split \n",
    "from sklearn import metrics \n",
    "from sklearn.model_selection import cross_val_score\n",
    "from sklearn.model_selection import KFold\n",
    "from numpy import mean\n",
    "from numpy import absolute\n",
    "from sklearn.model_selection import train_test_split\n",
    "from sklearn.linear_model import LogisticRegression\n",
    "from sklearn import svm\n",
    "from sklearn.svm import SVC\n",
    "from sklearn.model_selection import cross_val_score, KFold, train_test_split"
   ]
  },
  {
   "cell_type": "code",
   "execution_count": 5,
   "metadata": {},
   "outputs": [],
   "source": [
    "# load data\n",
    "infile = open('../01_data/FINALsmallSampleSet_3months_without_duplicates.pkl','rb')\n",
    "df = pickle.load(infile)\n",
    "infile.close()"
   ]
  },
  {
   "cell_type": "code",
   "execution_count": 1,
   "metadata": {},
   "outputs": [
    {
     "ename": "NameError",
     "evalue": "name 'df' is not defined",
     "output_type": "error",
     "traceback": [
      "\u001b[1;31m---------------------------------------------------------------------------\u001b[0m",
      "\u001b[1;31mNameError\u001b[0m                                 Traceback (most recent call last)",
      "\u001b[1;32mc:\\Users\\Nathalie\\Nextcloud\\LADi\\Orthografie Trainer\\Code\\03_prediction_solution_probability\\01_solution_probability_model\\04_svm\\04_svm_3months.ipynb Cell 3\u001b[0m in \u001b[0;36m<cell line: 3>\u001b[1;34m()\u001b[0m\n\u001b[0;32m      <a href='vscode-notebook-cell:/c%3A/Users/Nathalie/Nextcloud/LADi/Orthografie%20Trainer/Code/03_prediction_solution_probability/01_solution_probability_model/04_svm/04_svm_3months.ipynb#W3sZmlsZQ%3D%3D?line=0'>1</a>\u001b[0m \u001b[39m# SVM\u001b[39;00m\n\u001b[1;32m----> <a href='vscode-notebook-cell:/c%3A/Users/Nathalie/Nextcloud/LADi/Orthografie%20Trainer/Code/03_prediction_solution_probability/01_solution_probability_model/04_svm/04_svm_3months.ipynb#W3sZmlsZQ%3D%3D?line=2'>3</a>\u001b[0m feature_cols \u001b[39m=\u001b[39m \u001b[39mlist\u001b[39m(df\u001b[39m.\u001b[39mcolumns)\n\u001b[0;32m      <a href='vscode-notebook-cell:/c%3A/Users/Nathalie/Nextcloud/LADi/Orthografie%20Trainer/Code/03_prediction_solution_probability/01_solution_probability_model/04_svm/04_svm_3months.ipynb#W3sZmlsZQ%3D%3D?line=3'>4</a>\u001b[0m feature_cols\u001b[39m.\u001b[39mremove(\u001b[39m'\u001b[39m\u001b[39mErfolg\u001b[39m\u001b[39m'\u001b[39m)\n\u001b[0;32m      <a href='vscode-notebook-cell:/c%3A/Users/Nathalie/Nextcloud/LADi/Orthografie%20Trainer/Code/03_prediction_solution_probability/01_solution_probability_model/04_svm/04_svm_3months.ipynb#W3sZmlsZQ%3D%3D?line=5'>6</a>\u001b[0m X \u001b[39m=\u001b[39m df[feature_cols]\n",
      "\u001b[1;31mNameError\u001b[0m: name 'df' is not defined"
     ]
    }
   ],
   "source": [
    "# SVM\n",
    "\n",
    "# prepare features\n",
    "feature_cols = list(df.columns)\n",
    "feature_cols.remove('Erfolg')\n",
    "\n",
    "X = df[feature_cols]\n",
    "y = df.Erfolg\n",
    "y= y.astype('int')\n",
    "\n",
    "# train test split\n",
    "X_train, X_test, y_train, y_test = train_test_split(X, y, test_size=0.3, random_state=1)\n",
    "k = 5\n",
    "cv = KFold(n_splits=k, random_state=None)\n",
    "\n",
    "# fit\n",
    "clf = SVC(kernel='linear',gamma=1, probability=True)\n",
    "clf = clf.fit(X_train,y_train)\n",
    "\n",
    "# calculate scores\n",
    "scores_a = cross_val_score(clf, X_test, y_test, scoring='accuracy', cv=cv, n_jobs=-1)\n",
    "a = mean(scores_a)\n",
    "\n",
    "scores_p = cross_val_score(clf, X_test, y_test, scoring='precision', cv=cv, n_jobs=-1)\n",
    "p = mean(scores_p)\n",
    "\n",
    "scores_r = cross_val_score(clf, X_test, y_test, scoring='recall', cv=cv, n_jobs=-1)\n",
    "r = mean(scores_r)\n",
    "\n",
    "scores_f1 = cross_val_score(clf, X_test, y_test, scoring='f1', cv=cv, n_jobs=-1)\n",
    "f1 = mean(scores_f1)\n",
    "\n",
    "# predict\n",
    "pred = clf.predict(X_test)\n",
    "probs = clf.predict_proba(X_test)"
   ]
  },
  {
   "cell_type": "code",
   "execution_count": null,
   "metadata": {},
   "outputs": [
    {
     "name": "stdout",
     "output_type": "stream",
     "text": [
      "Accuracy: 0.96850599\n",
      "Precision: 0.97467810\n",
      "Recall: 0.96198278\n",
      "F1: 0.96828714\n"
     ]
    }
   ],
   "source": [
    "# print scores\n",
    "print(\"Accuracy: %.8f\" %a)\n",
    "print(\"Precision: %.8f\" %p)\n",
    "print(\"Recall: %.8f\" %r)\n",
    "print(\"F1: %.8f\" %f1)"
   ]
  },
  {
   "cell_type": "code",
   "execution_count": null,
   "metadata": {},
   "outputs": [
    {
     "data": {
      "text/plain": [
       "array([[29358,   642],\n",
       "       [ 1156, 28792]], dtype=int64)"
      ]
     },
     "execution_count": 6,
     "metadata": {},
     "output_type": "execute_result"
    }
   ],
   "source": [
    "# print confusion matrix\n",
    "metrics.confusion_matrix(y_test, pred)"
   ]
  },
  {
   "cell_type": "code",
   "execution_count": null,
   "metadata": {},
   "outputs": [],
   "source": [
    "# save probabilites to df\n",
    "t = probs[:,:1].tolist()\n",
    "data_df = pd.DataFrame(t)"
   ]
  },
  {
   "cell_type": "code",
   "execution_count": null,
   "metadata": {},
   "outputs": [],
   "source": [
    "# dump as pickle \n",
    "pickle.dump(clf, open('SVMmodel_3months.pkl', 'wb'))\n",
    "pickle.dump(X_train, open('X_train_3months.pkl', 'wb'))\n",
    "pickle.dump(X_test, open('X_test_3months.pkl', 'wb'))\n",
    "pickle.dump(y_train, open('y_train_3months.pkl', 'wb'))\n",
    "pickle.dump(y_test, open('y_test_3months.pkl', 'wb'))\n",
    "pickle.dump(data_df, open('df_prob_3months.pkl', 'wb'))"
   ]
  }
 ],
 "metadata": {
  "kernelspec": {
   "display_name": "Python 3",
   "language": "python",
   "name": "python3"
  },
  "language_info": {
   "codemirror_mode": {
    "name": "ipython",
    "version": 3
   },
   "file_extension": ".py",
   "mimetype": "text/x-python",
   "name": "python",
   "nbconvert_exporter": "python",
   "pygments_lexer": "ipython3",
   "version": "3.10.2"
  },
  "orig_nbformat": 4,
  "vscode": {
   "interpreter": {
    "hash": "369f2c481f4da34e4445cda3fffd2e751bd1c4d706f27375911949ba6bb62e1c"
   }
  }
 },
 "nbformat": 4,
 "nbformat_minor": 2
}
