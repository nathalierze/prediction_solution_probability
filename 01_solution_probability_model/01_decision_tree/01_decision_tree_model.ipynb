{
 "cells": [
  {
   "cell_type": "code",
   "execution_count": 1,
   "metadata": {},
   "outputs": [],
   "source": [
    "import pandas as pd\n",
    "import pickle\n",
    "from sklearn import metrics\n",
    "from sklearn.tree import DecisionTreeClassifier\n",
    "from sklearn.model_selection import cross_val_score, KFold, train_test_split\n",
    "from numpy import mean, absolute\n",
    "from sklearn.metrics import accuracy_score, precision_score, recall_score, f1_score"
   ]
  },
  {
   "cell_type": "code",
   "execution_count": 2,
   "metadata": {},
   "outputs": [],
   "source": [
    "# load data\n",
    "infile = open(\"../data_solution_probability_model.pkl\", \"rb\")\n",
    "df = pickle.load(infile)\n",
    "infile.close()"
   ]
  },
  {
   "cell_type": "code",
   "execution_count": null,
   "metadata": {},
   "outputs": [],
   "source": [
    "# prepare features\n",
    "feature_cols = list(df.columns)\n",
    "feature_cols.remove(\"Erfolg\")\n",
    "X = df[feature_cols]\n",
    "y = df.Erfolg\n",
    "y = y.astype(\"int\")\n",
    "\n",
    "# train test split\n",
    "X_train, X_test, y_train, y_test = train_test_split(X, y, test_size=0.3, random_state=1)\n",
    "k = 5\n",
    "cv = KFold(n_splits=k, random_state=None)\n",
    "\n",
    "# classifier\n",
    "clf = DecisionTreeClassifier(criterion=\"entropy\", splitter=\"best\", max_depth=10)\n",
    "clf = clf.fit(X_train, y_train)\n",
    "\n",
    "# calculate scores\n",
    "scores_a = cross_val_score(clf, X_train, y_train, scoring=\"accuracy\", cv=cv, n_jobs=-1)\n",
    "a = mean(scores_a)\n",
    "\n",
    "scores_p = cross_val_score(clf, X_train, y_train, scoring=\"precision\", cv=cv, n_jobs=-1)\n",
    "p = mean(scores_p)\n",
    "\n",
    "scores_r = cross_val_score(clf, X_train, y_train, scoring=\"recall\", cv=cv, n_jobs=-1)\n",
    "r = mean(scores_r)\n",
    "\n",
    "scores_f1 = cross_val_score(clf, X_train, y_train, scoring=\"f1\", cv=cv, n_jobs=-1)\n",
    "f1_cv = mean(scores_f1)\n",
    "\n",
    "# Print the cross validation scores\n",
    "# print(\"Accuracy:\", a)\n",
    "# print(\"Precision:\", p)\n",
    "# print(\"Recall:\", r)\n",
    "# print(\"F1 score:\", f1_cv)\n",
    "\n",
    "# Evaluate the model on the test set\n",
    "y_pred = clf.predict(X_test)\n",
    "\n",
    "# Calculate the evaluation metrics\n",
    "accuracy = accuracy_score(y_test, y_pred)\n",
    "precision = precision_score(y_test, y_pred)\n",
    "recall = recall_score(y_test, y_pred)\n",
    "f1 = f1_score(y_test, y_pred)\n",
    "\n",
    "# Print the evaluation metrics\n",
    "# print(\"Accuracy:\", accuracy)\n",
    "# print(\"Precision:\", precision)\n",
    "# print(\"Recall:\", recall)\n",
    "# print(\"F1 score:\", f1)\n",
    "\n",
    "# predict probabilities\n",
    "probs = clf.predict_proba(X_test)"
   ]
  },
  {
   "cell_type": "code",
   "execution_count": null,
   "metadata": {},
   "outputs": [],
   "source": [
    "# print confusion matrix\n",
    "metrics.confusion_matrix(y_test, y_pred)"
   ]
  },
  {
   "cell_type": "code",
   "execution_count": null,
   "metadata": {},
   "outputs": [],
   "source": [
    "# calculate feature importance\n",
    "importance = clf.feature_importances_\n",
    "for p, v in enumerate(importance):\n",
    "    print(\"Feature: %0d, Score: %.5f\" % (p, v))"
   ]
  },
  {
   "cell_type": "code",
   "execution_count": null,
   "metadata": {},
   "outputs": [],
   "source": [
    "# save probabilities as list\n",
    "prob_list = probs[:, :1].tolist()\n",
    "data_probs = pd.DataFrame(prob_list)"
   ]
  },
  {
   "cell_type": "code",
   "execution_count": 9,
   "metadata": {},
   "outputs": [],
   "source": [
    "# save model as pickle dump\n",
    "pickle.dump(clf, open(\"DecisionTreemodel_3months.pkl\", \"wb\"))\n",
    "pickle.dump(X_train, open(\"X_train_3months.pkl\", \"wb\"))\n",
    "pickle.dump(X_test, open(\"X_test_3months.pkl\", \"wb\"))\n",
    "pickle.dump(y_train, open(\"y_train_3months.pkl\", \"wb\"))\n",
    "pickle.dump(y_test, open(\"y_test_3months.pkl\", \"wb\"))\n",
    "pickle.dump(data_probs, open(\"df_prob_3months.pkl\", \"wb\"))"
   ]
  }
 ],
 "metadata": {
  "interpreter": {
   "hash": "b31c238c9fc47863b962b845562f9bed824c7de75300565f12a0ac751e3044d8"
  },
  "kernelspec": {
   "display_name": "Python 3.9.1 64-bit",
   "language": "python",
   "name": "python3"
  },
  "language_info": {
   "codemirror_mode": {
    "name": "ipython",
    "version": 3
   },
   "file_extension": ".py",
   "mimetype": "text/x-python",
   "name": "python",
   "nbconvert_exporter": "python",
   "pygments_lexer": "ipython3",
   "version": "3.9.1"
  },
  "orig_nbformat": 4
 },
 "nbformat": 4,
 "nbformat_minor": 2
}
