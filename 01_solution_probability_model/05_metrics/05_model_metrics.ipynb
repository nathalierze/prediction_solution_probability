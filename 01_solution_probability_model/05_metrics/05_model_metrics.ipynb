{
 "cells": [
  {
   "cell_type": "code",
   "execution_count": null,
   "metadata": {},
   "outputs": [],
   "source": [
    "import pandas as pd\n",
    "import pickle\n",
    "import seaborn as sns\n",
    "import matplotlib.pyplot as plt\n",
    "import numpy as np\n",
    "from sklearn import metrics\n",
    "import csv\n",
    "from tensorflow.keras.models import load_model\n",
    "from sklearn.metrics import (\n",
    "    recall_score,\n",
    "    precision_score,\n",
    "    f1_score,\n",
    "    accuracy_score,\n",
    "    plot_confusion_matrix,\n",
    "    confusion_matrix,\n",
    ")\n",
    "import warnings\n",
    "\n",
    "# Ignore the warning message\n",
    "warnings.filterwarnings(\"ignore\", category=FutureWarning)"
   ]
  },
  {
   "cell_type": "code",
   "execution_count": null,
   "metadata": {},
   "outputs": [],
   "source": [
    "def calculateMetrics(y_test, pred):\n",
    "    \"\"\"\n",
    "    function calculate metrics for dte, logreg, svm\n",
    "    returns scores\n",
    "    \"\"\"\n",
    "    accuracy = accuracy_score(y_test, pred)\n",
    "    precision = precision_score(y_test, pred)\n",
    "    recall = recall_score(y_test, pred)\n",
    "    f1 = f1_score(y_test, pred)\n",
    "\n",
    "    print(\"Accuracy: %.8f\" % accuracy)\n",
    "    print(\"Precision: %.8f\" % precision)\n",
    "    print(\"Recall: %.8f\" % recall)\n",
    "    print(\"F1: %.8f\" % f1)\n",
    "\n",
    "    return accuracy, precision, recall, f1\n",
    "\n",
    "\n",
    "def calculateMetricsNN(clf, X_test, y_test):\n",
    "    \"\"\"\n",
    "    function calculates metrics for the nn model\n",
    "    returns scores\n",
    "    \"\"\"\n",
    "    predicted = clf.predict(X_test, verbose=0)\n",
    "    predicted_classes = (clf.predict(X_test) > 0.5).astype(\"int32\")\n",
    "\n",
    "    # reduce to 1d array\n",
    "    predicted = predicted[:, 0]\n",
    "    predicted_classes = predicted_classes[:, 0]\n",
    "\n",
    "    accuracy = accuracy_score(y_test, predicted_classes)\n",
    "    precision = precision_score(y_test, predicted_classes)\n",
    "    recall = recall_score(y_test, predicted_classes)\n",
    "    f1 = f1_score(y_test, predicted_classes)\n",
    "\n",
    "    print(\"Accuracy: %.8f\" % accuracy)\n",
    "    print(\"Precision: %.8f\" % precision)\n",
    "    print(\"Recall: %.8f\" % recall)\n",
    "    print(\"F1: %.8f\" % f1)\n",
    "\n",
    "    return accuracy, precision, recall, f1, predicted, predicted_classes\n",
    "\n",
    "\n",
    "def featureImportance(clf):\n",
    "    \"\"\"\n",
    "    function calculates featureImportance\n",
    "    \"\"\"\n",
    "    featureImportance = pd.DataFrame(columns=[\"Feature\", \"Score\"])\n",
    "    importance = clf.feature_importances_\n",
    "    for p, v in enumerate(importance):\n",
    "        featureImportance = featureImportance.append(\n",
    "            {\"Feature\": p, \"Score\": v}, ignore_index=True\n",
    "        )\n",
    "    plt.figure(figsize=(20, 5))\n",
    "    ax = sns.barplot(\n",
    "        x=featureImportance.Feature,\n",
    "        y=featureImportance.Score,\n",
    "        data=featureImportance,\n",
    "        color=\"#00338d\",\n",
    "    )\n",
    "\n",
    "    # save to csv\n",
    "    featureImportance.to_csv(\"featureImportance_dte.csv\")\n",
    "\n",
    "\n",
    "def confusionMatrix(y_test, predicted, clf, X_test):\n",
    "    \"\"\"\n",
    "    plot confusion matric\n",
    "    \"\"\"\n",
    "    print(metrics.confusion_matrix(y_test, predicted))\n",
    "    plot_confusion_matrix(clf, X_test, y_test)\n",
    "    plt.show()\n",
    "\n",
    "\n",
    "def predict_y(clf, X_test):\n",
    "    \"\"\"\n",
    "    predict y\n",
    "    \"\"\"\n",
    "    predicted = clf.predict(X_test)\n",
    "    return predicted\n",
    "\n",
    "\n",
    "def getProbability(clf, X_test):\n",
    "    \"\"\"\n",
    "    get probability\n",
    "    \"\"\"\n",
    "    probability = clf.predict_proba(X_test)\n",
    "    t = probability[:, :1].tolist()\n",
    "    df_prob = pd.DataFrame(t)\n",
    "    return df_prob\n",
    "\n",
    "\n",
    "def precision_recall_curve(y_test, df_prob):\n",
    "    \"\"\"\n",
    "    plot precision recall curve\n",
    "    \"\"\"\n",
    "    lr_precision, lr_recall, _ = precision_recall_curve(y_test, df_prob)\n",
    "\n",
    "    # plot the precision-recall curves\n",
    "    no_skill = len(y_test[y_test == 1]) / len(y_test)\n",
    "    plt.plot([0, 1], [no_skill, no_skill], linestyle=\"--\", label=\"No Skill\")\n",
    "    plt.plot(lr_recall, lr_precision, marker=\".\")\n",
    "    plt.xlabel(\"Recall\")\n",
    "    plt.ylabel(\"Precision\")\n",
    "    plt.legend()\n",
    "    plt.show()"
   ]
  },
  {
   "cell_type": "markdown",
   "metadata": {},
   "source": [
    "Decision Tree"
   ]
  },
  {
   "cell_type": "code",
   "execution_count": null,
   "metadata": {},
   "outputs": [],
   "source": [
    "# load\n",
    "DTE_model = pickle.load(open(\"../01_decision_tree/Decisiontreemodel_3months.pkl\", \"rb\"))\n",
    "X_test_DTE = pickle.load(open(\"../01_decision_tree/X_test_3months.pkl\", \"rb\"))\n",
    "y_test_DTE = pickle.load(open(\"../01_decision_tree/y_test_3months.pkl\", \"rb\"))\n",
    "\n",
    "# get scores and prediction\n",
    "pred = predict_y(DTE_model, X_test_DTE)\n",
    "accuracy, precision, recall, f1 = calculateMetrics(y_test_DTE, pred)\n",
    "\n",
    "# plot confusion matrix\n",
    "confusionMatrix(y_test_DTE, pred, DTE_model, X_test_DTE)\n",
    "\n",
    "# plot feature importance\n",
    "featureImportance(DTE_model)"
   ]
  },
  {
   "cell_type": "markdown",
   "metadata": {},
   "source": [
    "Logistic Regression"
   ]
  },
  {
   "cell_type": "code",
   "execution_count": null,
   "metadata": {},
   "outputs": [],
   "source": [
    "# load\n",
    "logreg_model = pickle.load(\n",
    "    open(\"../02_logistic_regression/Logregmodel_3months.pkl\", \"rb\")\n",
    ")\n",
    "X_test_logreg = pickle.load(open(\"../02_logistic_regression/X_test_3months.pkl\", \"rb\"))\n",
    "y_test_logreg = pickle.load(open(\"../02_logistic_regression/y_test_3months.pkl\", \"rb\"))\n",
    "\n",
    "# get scores and prediction\n",
    "pred = predict_y(logreg_model, X_test_logreg)\n",
    "accuracy, precision, recall, f1 = calculateMetrics(y_test_logreg, pred)\n",
    "\n",
    "# plot confusion matrix\n",
    "confusionMatrix(y_test_logreg, pred, logreg_model, X_test_logreg)\n",
    "\n",
    "# plot histogram with porbabilities\n",
    "df_prob = pickle.load(open(\"../02_logistic_regression/df_prob_3months.pkl\", \"rb\"))\n",
    "sns.histplot(data=df_prob, x=df_prob[0], palette=\"dark:#5A9_r\")"
   ]
  },
  {
   "cell_type": "markdown",
   "metadata": {},
   "source": [
    "SVM"
   ]
  },
  {
   "cell_type": "code",
   "execution_count": null,
   "metadata": {},
   "outputs": [],
   "source": [
    "# load\n",
    "svm_model = pickle.load(open(\"../03_svm/SVMmodel_3months.pkl\", \"rb\"))\n",
    "X_test_svm = pickle.load(open(\"../03_svm/X_test_3months.pkl\", \"rb\"))\n",
    "y_test_svm = pickle.load(open(\"../03_svm/y_test_3months.pkl\", \"rb\"))\n",
    "\n",
    "# get scores and prediction\n",
    "pred = predict_y(svm_model, X_test_svm)\n",
    "accuracy, precision, recall, f1 = calculateMetrics(y_test_svm, pred)\n",
    "\n",
    "# plot confusion matrix\n",
    "confusionMatrix(y_test_svm, pred, svm_model, X_test_svm)"
   ]
  },
  {
   "cell_type": "markdown",
   "metadata": {},
   "source": [
    "Neural Network"
   ]
  },
  {
   "cell_type": "code",
   "execution_count": null,
   "metadata": {},
   "outputs": [],
   "source": [
    "# load\n",
    "nn_model = load_model(\"../04_nn/nn/\")\n",
    "X_test_nn = pickle.load(open(\"../04_nn/X_test_3months.pkl\", \"rb\"))\n",
    "y_test_nn = pickle.load(open(\"../04_nn/y_test_3months.pkl\", \"rb\"))\n",
    "\n",
    "# get scores and prediction\n",
    "accuracy, precision, recall, f1, predicted, predicted_classes = calculateMetricsNN(\n",
    "    nn_model, X_test_nn, y_test_nn\n",
    ")\n",
    "\n",
    "# plot confusion matrix\n",
    "cm = metrics.confusion_matrix(y_test_nn, predicted_classes)\n",
    "f = sns.heatmap(cm, annot=True, fmt=\"d\")"
   ]
  }
 ],
 "metadata": {
  "kernelspec": {
   "display_name": "Python 3.10.2 64-bit",
   "language": "python",
   "name": "python3"
  },
  "language_info": {
   "codemirror_mode": {
    "name": "ipython",
    "version": 3
   },
   "file_extension": ".py",
   "mimetype": "text/x-python",
   "name": "python",
   "nbconvert_exporter": "python",
   "pygments_lexer": "ipython3",
   "version": "3.10.2"
  },
  "orig_nbformat": 4,
  "vscode": {
   "interpreter": {
    "hash": "369f2c481f4da34e4445cda3fffd2e751bd1c4d706f27375911949ba6bb62e1c"
   }
  }
 },
 "nbformat": 4,
 "nbformat_minor": 2
}
