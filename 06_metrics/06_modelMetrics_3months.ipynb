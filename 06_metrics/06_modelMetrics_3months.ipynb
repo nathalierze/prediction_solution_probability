{
 "cells": [
  {
   "cell_type": "code",
   "execution_count": 7,
   "metadata": {},
   "outputs": [],
   "source": [
    "import pandas as pd\n",
    "import pickle\n",
    "import seaborn as sns\n",
    "import csv\n",
    "import matplotlib.pyplot as plt\n",
    "import numpy as np\n",
    "from sklearn.model_selection import KFold , cross_val_score\n",
    "from sklearn import metrics \n",
    "from matplotlib import pyplot as plt\n",
    "from numpy import mean\n",
    "from numpy import absolute\n",
    "from sklearn.linear_model import LogisticRegression\n",
    "from sklearn.metrics import precision_recall_curve\n",
    "from sklearn.metrics import auc\n",
    "from matplotlib import pyplot\n",
    "from tensorflow.keras.models import load_model\n",
    "from sklearn.metrics import log_loss, roc_auc_score, recall_score, precision_score, average_precision_score, f1_score, classification_report, accuracy_score, plot_roc_curve, plot_precision_recall_curve, plot_confusion_matrix"
   ]
  },
  {
   "cell_type": "markdown",
   "metadata": {},
   "source": [
    "Functions"
   ]
  },
  {
   "cell_type": "code",
   "execution_count": 8,
   "metadata": {},
   "outputs": [],
   "source": [
    "def calculateMetrics(clf, X_test, y_test):\n",
    "    k = 5\n",
    "    cv = KFold(n_splits=k, random_state=None)\n",
    "\n",
    "    scores_a = cross_val_score(clf, X_test, y_test, scoring='accuracy', cv=cv, n_jobs=-1)\n",
    "    accuracy = mean(absolute(scores_a))\n",
    "\n",
    "    scores_p = cross_val_score(clf, X_test, y_test, scoring='precision', cv=cv, n_jobs=-1)\n",
    "    precision = mean(absolute(scores_p))\n",
    "\n",
    "    scores_r = cross_val_score(clf, X_test, y_test, scoring='recall', cv=cv, n_jobs=-1)\n",
    "    recall = mean(absolute(scores_r))\n",
    "\n",
    "    scores_f1 = cross_val_score(clf, X_test, y_test, scoring='f1', cv=cv, n_jobs=-1)\n",
    "    f1 = mean(absolute(scores_f1))\n",
    "\n",
    "    print(\"Accuracy: %.8f\" %accuracy)\n",
    "    print(\"Precision: %.8f\" %precision)\n",
    "    print(\"Recall: %.8f\" %recall)\n",
    "    print(\"F1: %.8f\" %f1)\n",
    "\n",
    "    return accuracy, precision, recall, f1\n",
    "\n",
    "def calculateMetricsNN(clf, X_test, y_test):\n",
    "    predicted = clf.predict(X_test, verbose=0)\n",
    "    predicted_classes =  (clf.predict(X_test) > 0.5).astype(\"int32\")\n",
    "    # reduce to 1d array\n",
    "    predicted = predicted[:, 0]\n",
    "    predicted_classes = predicted_classes[:, 0]\n",
    "\n",
    "    accuracy = accuracy_score(y_test, predicted_classes)\n",
    "    precision = precision_score(y_test, predicted_classes)\n",
    "    recall = recall_score(y_test, predicted_classes)\n",
    "    f1 = f1_score(y_test, predicted_classes)\n",
    "\n",
    "    print(\"Accuracy: %.8f\" %accuracy)\n",
    "    print(\"Precision: %.8f\" %precision)\n",
    "    print(\"Recall: %.8f\" %recall)\n",
    "    print(\"F1: %.8f\" %f1)\n",
    "\n",
    "    return accuracy, precision, recall, f1, predicted, predicted_classes\n",
    "\n",
    "def featureImportance(clf):\n",
    "    featureImportance= pd.DataFrame(columns=['Feature', 'Score'])\n",
    "\n",
    "    importance = clf.feature_importances_\n",
    "    for p,v in enumerate(importance):\n",
    "        featureImportance = featureImportance.append({'Feature':p,'Score': v}, ignore_index=True)\n",
    "    plt.figure(figsize=(20, 5))\n",
    "    ax = sns.barplot(x=featureImportance.Feature, y=featureImportance.Score, data=featureImportance, color='#00338d')\n",
    "\n",
    "    featureImportance.to_csv('featureImportance_dte.csv')\n",
    "\n",
    "    features = ['Erstloesung','Schwierigkeit','Wochentag','ist_Schulzeit','MehrfachFalsch','Testposition__FT', 'Testposition__nt', 'Testposition__pruefung',\n",
    "       'Testposition__training', 'Testposition__version', 'Testposition__vt',\n",
    "       'Testposition__zt', 'beendet', 'Fehler', 'HA__HA', 'HA__Self', 'HA__nt',\n",
    "       'HA__vt', 'HA__zt', 'Klassenstufe', 'Jahredabei', \n",
    "       'Sex__m', 'Sex__w']\n",
    "\n",
    "\n",
    "def confusionMatrix(y_test, predicted, clf, X_test):\n",
    "    #print(metrics.confusion_matrix(y_test, predicted))\n",
    "    plot_confusion_matrix(clf, X_test, y_test)  \n",
    "    plt.show()\n",
    "\n",
    "def predictX(clf, X_test):\n",
    "    predicted = clf.predict(X_test)\n",
    "    return predicted\n",
    "\n",
    "# def getProbability(clf, X_test):\n",
    "#     probability = clf.predict_proba(X_test)\n",
    "#     t = probability[:,:1].tolist()\n",
    "#     df_prob = pd.DataFrame(t)\n",
    "#     return df_prob\n",
    "\n",
    "def precision_recall_curve(y_test, df_prob):\n",
    "    lr_precision, lr_recall, _ = precision_recall_curve(y_test, df_prob)    \n",
    "    # plot the precision-recall curves\n",
    "    no_skill = len(y_test[y_test==1]) / len(y_test)\n",
    "    pyplot.plot([0, 1], [no_skill, no_skill], linestyle='--', label='No Skill')\n",
    "    pyplot.plot(lr_recall, lr_precision, marker='.')\n",
    "    pyplot.xlabel('Recall')\n",
    "    pyplot.ylabel('Precision')\n",
    "    pyplot.legend()\n",
    "    pyplot.show()\n",
    "     \n"
   ]
  },
  {
   "cell_type": "markdown",
   "metadata": {},
   "source": [
    "Decision Tree"
   ]
  },
  {
   "cell_type": "code",
   "execution_count": 9,
   "metadata": {},
   "outputs": [
    {
     "name": "stderr",
     "output_type": "stream",
     "text": [
      "c:\\Python310\\lib\\site-packages\\sklearn\\base.py:329: UserWarning: Trying to unpickle estimator DecisionTreeClassifier from version 0.24.0 when using version 1.0.2. This might lead to breaking code or invalid results. Use at your own risk. For more info please refer to:\n",
      "https://scikit-learn.org/stable/modules/model_persistence.html#security-maintainability-limitations\n",
      "  warnings.warn(\n"
     ]
    }
   ],
   "source": [
    "DTE_model = pickle.load(open('../02_decisionTree/DecisionTreemodel_3months.pkl', 'rb'))\n",
    "X_test_DTE = pickle.load(open('../02_decisionTree/X_test_3months.pkl', 'rb'))\n",
    "y_test_DTE = pickle.load(open('../02_decisionTree/y_test_3months.pkl', 'rb'))"
   ]
  },
  {
   "cell_type": "code",
   "execution_count": 11,
   "metadata": {},
   "outputs": [
    {
     "name": "stderr",
     "output_type": "stream",
     "text": [
      "c:\\Python310\\lib\\site-packages\\sklearn\\utils\\validation.py:1688: FutureWarning: Feature names only support names that are all strings. Got feature names with dtypes: ['int', 'str']. An error will be raised in 1.2.\n",
      "  warnings.warn(\n"
     ]
    }
   ],
   "source": [
    "#accuracy, precision, recall, f1 = calculateMetrics(DTE_model, X_test_DTE, y_test_DTE)\n",
    "predicted = predictX(DTE_model, X_test_DTE)\n"
   ]
  },
  {
   "cell_type": "code",
   "execution_count": 5,
   "metadata": {},
   "outputs": [],
   "source": [
    "#confusionMatrix(y_test_DTE, predicted, DTE_model, X_test_DTE)"
   ]
  },
  {
   "cell_type": "code",
   "execution_count": 6,
   "metadata": {},
   "outputs": [],
   "source": [
    "#featureImportance(DTE_model)"
   ]
  },
  {
   "cell_type": "code",
   "execution_count": 12,
   "metadata": {},
   "outputs": [
    {
     "data": {
      "text/plain": [
       "Text(0.5, 0, 'p')"
      ]
     },
     "execution_count": 12,
     "metadata": {},
     "output_type": "execute_result"
    },
    {
     "data": {
      "image/png": "[encoded data removed]",
      "text/plain": [
       "<Figure size 432x288 with 1 Axes>"
      ]
     },
     "metadata": {
      "needs_background": "light"
     },
     "output_type": "display_data"
    }
   ],
   "source": [
    "df_prob = pickle.load(open('../02_decisionTree/df_prob_3months.pkl', 'rb'))\n",
    "sns.histplot(data=df_prob, x=df_prob[0], color=\"#518177\")\n",
    "plt.xlabel('p')"
   ]
  },
  {
   "cell_type": "markdown",
   "metadata": {},
   "source": [
    "Logistic Regression"
   ]
  },
  {
   "cell_type": "code",
   "execution_count": 8,
   "metadata": {},
   "outputs": [
    {
     "name": "stderr",
     "output_type": "stream",
     "text": [
      "c:\\Python310\\lib\\site-packages\\sklearn\\base.py:329: UserWarning: Trying to unpickle estimator LogisticRegression from version 0.24.0 when using version 1.0.2. This might lead to breaking code or invalid results. Use at your own risk. For more info please refer to:\n",
      "https://scikit-learn.org/stable/modules/model_persistence.html#security-maintainability-limitations\n",
      "  warnings.warn(\n"
     ]
    }
   ],
   "source": [
    "logreg_model = pickle.load(open('../03_logisticRegression/Logregmodel_3months.pkl', 'rb'))\n",
    "X_test_logreg = pickle.load(open('../03_logisticRegression/X_test_3months.pkl', 'rb'))\n",
    "y_test_logreg = pickle.load(open('../03_logisticRegression/y_test_3months.pkl', 'rb'))"
   ]
  },
  {
   "cell_type": "code",
   "execution_count": 9,
   "metadata": {},
   "outputs": [],
   "source": [
    "accuracy, precision, recall, f1 = calculateMetrics(logreg_model, X_test_logreg, y_test_logreg)\n",
    "predicted = predictX(logreg_model, X_test_logreg)\n"
   ]
  },
  {
   "cell_type": "code",
   "execution_count": null,
   "metadata": {},
   "outputs": [
    {
     "data": {
      "image/png": "[encoded data removed]",
      "text/plain": [
       "<Figure size 432x288 with 2 Axes>"
      ]
     },
     "metadata": {
      "needs_background": "light"
     },
     "output_type": "display_data"
    }
   ],
   "source": [
    "#confusionMatrix(y_test_logreg, predicted, logreg_model, X_test_logreg)"
   ]
  },
  {
   "cell_type": "code",
   "execution_count": null,
   "metadata": {},
   "outputs": [
    {
     "data": {
      "text/plain": [
       "<AxesSubplot:xlabel='0', ylabel='Count'>"
      ]
     },
     "execution_count": 11,
     "metadata": {},
     "output_type": "execute_result"
    },
    {
     "data": {
      "image/png": "[encoded data removed]",
      "text/plain": [
       "<Figure size 432x288 with 1 Axes>"
      ]
     },
     "metadata": {
      "needs_background": "light"
     },
     "output_type": "display_data"
    }
   ],
   "source": [
    "df_prob = pickle.load(open('../03_logisticRegression/df_prob_3months.pkl', 'rb'))\n",
    "sns.histplot(data=df_prob, x=df_prob[0], palette=\"dark:#5A9_r\")"
   ]
  },
  {
   "cell_type": "markdown",
   "metadata": {},
   "source": [
    "SVM"
   ]
  },
  {
   "cell_type": "code",
   "execution_count": null,
   "metadata": {},
   "outputs": [
    {
     "name": "stderr",
     "output_type": "stream",
     "text": [
      "c:\\Python310\\lib\\site-packages\\sklearn\\base.py:329: UserWarning: Trying to unpickle estimator SVC from version 0.23.2 when using version 1.0.2. This might lead to breaking code or invalid results. Use at your own risk. For more info please refer to:\n",
      "https://scikit-learn.org/stable/modules/model_persistence.html#security-maintainability-limitations\n",
      "  warnings.warn(\n"
     ]
    }
   ],
   "source": [
    "svm_model = pickle.load(open('../04_svm/SVMmodel_3months.pkl', 'rb'))\n",
    "X_test_svm = pickle.load(open('../04_svm/X_test_3months.pkl', 'rb'))\n",
    "y_test_svm = pickle.load(open('../04_svm/y_test_3months.pkl', 'rb'))"
   ]
  },
  {
   "cell_type": "code",
   "execution_count": null,
   "metadata": {},
   "outputs": [
    {
     "name": "stdout",
     "output_type": "stream",
     "text": [
      "Accuracy: 0.96620400\n",
      "Precision: 0.97379029\n",
      "Recall: 0.95816482\n",
      "F1: 0.96591213\n"
     ]
    },
    {
     "name": "stderr",
     "output_type": "stream",
     "text": [
      "c:\\Python310\\lib\\site-packages\\sklearn\\utils\\validation.py:1688: FutureWarning: Feature names only support names that are all strings. Got feature names with dtypes: ['int', 'str']. An error will be raised in 1.2.\n",
      "  warnings.warn(\n"
     ]
    }
   ],
   "source": [
    "accuracy, precision, recall, f1 = calculateMetrics(svm_model, X_test_svm, y_test_svm)\n",
    "predicted = predictX(svm_model, X_test_svm)"
   ]
  },
  {
   "cell_type": "code",
   "execution_count": null,
   "metadata": {},
   "outputs": [
    {
     "name": "stderr",
     "output_type": "stream",
     "text": [
      "c:\\Python310\\lib\\site-packages\\sklearn\\utils\\deprecation.py:87: FutureWarning: Function plot_confusion_matrix is deprecated; Function `plot_confusion_matrix` is deprecated in 1.0 and will be removed in 1.2. Use one of the class methods: ConfusionMatrixDisplay.from_predictions or ConfusionMatrixDisplay.from_estimator.\n",
      "  warnings.warn(msg, category=FutureWarning)\n",
      "c:\\Python310\\lib\\site-packages\\sklearn\\utils\\validation.py:1688: FutureWarning: Feature names only support names that are all strings. Got feature names with dtypes: ['int', 'str']. An error will be raised in 1.2.\n",
      "  warnings.warn(\n"
     ]
    },
    {
     "data": {
      "image/png": "[encoded data removed]",
      "text/plain": [
       "<Figure size 432x288 with 2 Axes>"
      ]
     },
     "metadata": {
      "needs_background": "light"
     },
     "output_type": "display_data"
    }
   ],
   "source": [
    "confusionMatrix(y_test_svm, predicted, svm_model, X_test_svm)"
   ]
  },
  {
   "cell_type": "markdown",
   "metadata": {},
   "source": [
    "Neural Network"
   ]
  },
  {
   "cell_type": "code",
   "execution_count": null,
   "metadata": {},
   "outputs": [
    {
     "name": "stdout",
     "output_type": "stream",
     "text": [
      "WARNING:tensorflow:SavedModel saved prior to TF 2.5 detected when loading Keras model. Please ensure that you are saving the model with model.save() or tf.keras.models.save_model(), *NOT* tf.saved_model.save(). To confirm, there should be a file named \"keras_metadata.pb\" in the SavedModel directory.\n"
     ]
    }
   ],
   "source": [
    "nn_model = load_model('../05_nn/nn_3months/')\n",
    "X_test_nn = pickle.load(open('../05_nn/X_test_3months.pkl', 'rb'))\n",
    "y_test_nn = pickle.load(open('../05_nn/y_test_3months.pkl', 'rb'))"
   ]
  },
  {
   "cell_type": "code",
   "execution_count": null,
   "metadata": {},
   "outputs": [
    {
     "name": "stdout",
     "output_type": "stream",
     "text": [
      "1874/1874 [==============================] - 5s 2ms/step\n",
      "Accuracy: 0.97087476\n",
      "Precision: 0.97969111\n",
      "Recall: 0.96163350\n",
      "F1: 0.97057832\n"
     ]
    }
   ],
   "source": [
    "accuracy, precision, recall, f1, predicted, predicted_classes = calculateMetricsNN(nn_model, X_test_nn, y_test_nn)"
   ]
  },
  {
   "cell_type": "code",
   "execution_count": null,
   "metadata": {},
   "outputs": [
    {
     "data": {
      "image/png": "[encoded data removed]",
      "text/plain": [
       "<Figure size 432x288 with 2 Axes>"
      ]
     },
     "metadata": {
      "needs_background": "light"
     },
     "output_type": "display_data"
    }
   ],
   "source": [
    "cm = metrics.confusion_matrix(y_test_nn, predicted_classes)\n",
    "f = sns.heatmap(cm, annot=True, fmt='d')"
   ]
  }
 ],
 "metadata": {
  "kernelspec": {
   "display_name": "Python 3.10.2 64-bit",
   "language": "python",
   "name": "python3"
  },
  "language_info": {
   "codemirror_mode": {
    "name": "ipython",
    "version": 3
   },
   "file_extension": ".py",
   "mimetype": "text/x-python",
   "name": "python",
   "nbconvert_exporter": "python",
   "pygments_lexer": "ipython3",
   "version": "3.10.2 (tags/v3.10.2:a58ebcc, Jan 17 2022, 14:12:15) [MSC v.1929 64 bit (AMD64)]"
  },
  "orig_nbformat": 4,
  "vscode": {
   "interpreter": {
    "hash": "369f2c481f4da34e4445cda3fffd2e751bd1c4d706f27375911949ba6bb62e1c"
   }
  }
 },
 "nbformat": 4,
 "nbformat_minor": 2
}
