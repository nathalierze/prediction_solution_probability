{
 "cells": [
  {
   "cell_type": "code",
   "execution_count": 1,
   "metadata": {},
   "outputs": [],
   "source": [
    "import pandas as pd\n",
    "import pickle\n",
    "import seaborn as sns\n",
    "import matplotlib.pyplot as plt\n",
    "import numpy as np\n",
    "from sklearn.model_selection import KFold , cross_val_score\n",
    "from sklearn import metrics \n",
    "from matplotlib import pyplot as plt\n",
    "from numpy import mean\n",
    "from numpy import absolute\n",
    "from sklearn.linear_model import LogisticRegression\n",
    "from sklearn.metrics import precision_recall_curve\n",
    "from sklearn.metrics import auc\n",
    "from matplotlib import pyplot\n",
    "from tensorflow.keras.models import load_model\n",
    "from sklearn.metrics import log_loss, roc_auc_score, recall_score, precision_score, average_precision_score, f1_score, classification_report, accuracy_score, plot_roc_curve, plot_precision_recall_curve, plot_confusion_matrix"
   ]
  },
  {
   "cell_type": "markdown",
   "metadata": {},
   "source": [
    "Functions"
   ]
  },
  {
   "cell_type": "code",
   "execution_count": 2,
   "metadata": {},
   "outputs": [],
   "source": [
    "def calculateMetrics(clf, X_test, y_test):\n",
    "    k = 5\n",
    "    cv = KFold(n_splits=k, random_state=None)\n",
    "\n",
    "    scores_a = cross_val_score(clf, X_test, y_test, scoring='accuracy', cv=cv, n_jobs=-1)\n",
    "    accuracy = mean(absolute(scores_a))\n",
    "\n",
    "    scores_p = cross_val_score(clf, X_test, y_test, scoring='precision', cv=cv, n_jobs=-1)\n",
    "    precision = mean(absolute(scores_p))\n",
    "\n",
    "    scores_r = cross_val_score(clf, X_test, y_test, scoring='recall', cv=cv, n_jobs=-1)\n",
    "    recall = mean(absolute(scores_r))\n",
    "\n",
    "    scores_f1 = cross_val_score(clf, X_test, y_test, scoring='f1', cv=cv, n_jobs=-1)\n",
    "    f1 = mean(absolute(scores_f1))\n",
    "\n",
    "    print(\"Accuracy: %.8f\" %accuracy)\n",
    "    print(\"Precision: %.8f\" %precision)\n",
    "    print(\"Recall: %.8f\" %recall)\n",
    "    print(\"F1: %.8f\" %f1)\n",
    "\n",
    "    with open('metrics_SVM.txt', 'w') as f:\n",
    "        f.write(\"Accuracy: %.8f\" %accuracy)\n",
    "        f.write('\\n')\n",
    "        f.write(\"Precision: %.8f\" %precision)\n",
    "        f.write('\\n')\n",
    "        f.write(\"Recall: %.8f\" %recall)\n",
    "        f.write('\\n')\n",
    "        f.write(\"F1: %.8f\" %f1)\n",
    "        f.write('\\n')\n",
    "\n",
    "    return accuracy, precision, recall, f1\n",
    "\n",
    "def confusionMatrix(y_test, predicted, clf, X_test):\n",
    "    #print(metrics.confusion_matrix(y_test, predicted))\n",
    "    plot_confusion_matrix(clf, X_test, y_test)  \n",
    "\n",
    "    plt.savefig('svm_confusionmatrix.png')\n",
    "\n",
    "    plt.show()\n",
    "\n",
    "def predictX(clf, X_test):\n",
    "    predicted = clf.predict(X_test)\n",
    "    return predicted\n",
    "\n",
    "def precision_recall_curve(y_test, df_prob):\n",
    "    lr_precision, lr_recall, _ = precision_recall_curve(y_test, df_prob)    \n",
    "    # plot the precision-recall curves\n",
    "    no_skill = len(y_test[y_test==1]) / len(y_test)\n",
    "    pyplot.plot([0, 1], [no_skill, no_skill], linestyle='--', label='No Skill')\n",
    "    pyplot.plot(lr_recall, lr_precision, marker='.')\n",
    "    pyplot.xlabel('Recall')\n",
    "    pyplot.ylabel('Precision')\n",
    "    pyplot.legend()\n",
    "    pyplot.show()\n",
    "     \n"
   ]
  },
  {
   "cell_type": "code",
   "execution_count": 14,
   "metadata": {},
   "outputs": [],
   "source": [
    "svm_model = pickle.load(open('SVMmodel_3months.pkl', 'rb'))\n",
    "X_test_svm = pickle.load(open('X_test_3months.pkl', 'rb'))\n",
    "y_test_svm = pickle.load(open('y_test_3months.pkl', 'rb'))"
   ]
  },
  {
   "cell_type": "code",
   "execution_count": null,
   "metadata": {},
   "outputs": [],
   "source": [
    "accuracy, precision, recall, f1 = calculateMetrics(svm_model, X_test_svm, y_test_svm)\n",
    "predicted = predictX(svm_model, X_test_svm)"
   ]
  },
  {
   "cell_type": "code",
   "execution_count": null,
   "metadata": {},
   "outputs": [],
   "source": [
    "confusionMatrix(y_test_svm, predicted, svm_model, X_test_svm)"
   ]
  }
 ],
 "metadata": {
  "interpreter": {
   "hash": "43c895e0004f5b495fc7ef57d82d5133dad918f2f104dc4f733c698658929bd7"
  },
  "kernelspec": {
   "display_name": "Python 3.9.1 64-bit",
   "language": "python",
   "name": "python3"
  },
  "language_info": {
   "codemirror_mode": {
    "name": "ipython",
    "version": 3
   },
   "file_extension": ".py",
   "mimetype": "text/x-python",
   "name": "python",
   "nbconvert_exporter": "python",
   "pygments_lexer": "ipython3",
   "version": "3.8.8"
  },
  "orig_nbformat": 4
 },
 "nbformat": 4,
 "nbformat_minor": 2
}
