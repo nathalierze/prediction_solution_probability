{
 "cells": [
  {
   "cell_type": "code",
   "execution_count": 1,
   "metadata": {},
   "outputs": [],
   "source": [
    "import pandas as pd\n",
    "import pickle\n",
    "from sklearn import metrics \n",
    "from sklearn import svm\n",
    "from sklearn.svm import SVC\n",
    "from sklearn.model_selection import cross_val_score, KFold, train_test_split\n",
    "from numpy import mean, absolute"
   ]
  },
  {
   "cell_type": "code",
   "execution_count": 2,
   "metadata": {},
   "outputs": [],
   "source": [
    "infile = open('../01_data/smallSampleSet.pkl','rb')\n",
    "\n",
    "#infile = open('../01_data/df_final.pkl','rb')\n",
    "import_file = pickle.load(infile)\n",
    "infile.close()"
   ]
  },
  {
   "cell_type": "code",
   "execution_count": 3,
   "metadata": {},
   "outputs": [],
   "source": [
    "df = import_file\n",
    "df = df.drop(columns=['UserID'])\n",
    "#df = import_file.drop(columns=['ID','UserID','UebungsID','satzID', 'AufgabenID', 'Datum'])\n",
    "feature_cols = list(df.columns)\n",
    "feature_cols.remove('Erfolg')"
   ]
  },
  {
   "cell_type": "code",
   "execution_count": 4,
   "metadata": {},
   "outputs": [],
   "source": [
    "X = df[feature_cols]\n",
    "y = df.Erfolg\n",
    "y= y.astype('int')\n",
    "X_train, X_test, y_train, y_test = train_test_split(X, y, test_size=0.3, random_state=1)\n",
    "k = 5\n",
    "cv = KFold(n_splits=k, random_state=None)\n",
    "\n",
    "clf = SVC(kernel='linear',gamma=1, probability=True)\n",
    "clf = clf.fit(X_train,y_train)\n",
    "\n",
    "scores_a = cross_val_score(clf, X_test, y_test, scoring='accuracy', cv=cv, n_jobs=-1)\n",
    "a = mean(absolute(scores_a))\n",
    "\n",
    "scores_p = cross_val_score(clf, X_test, y_test, scoring='precision', cv=cv, n_jobs=-1)\n",
    "p = mean(absolute(scores_p))\n",
    "\n",
    "scores_r = cross_val_score(clf, X_test, y_test, scoring='recall', cv=cv, n_jobs=-1)\n",
    "r = mean(absolute(scores_r))\n",
    "\n",
    "scores_f1 = cross_val_score(clf, X_test, y_test, scoring='f1', cv=cv, n_jobs=-1)\n",
    "f1 = mean(absolute(scores_f1))\n",
    "\n",
    "pred = clf.predict(X_test)\n",
    "probs = clf.predict_proba(X_test)\n"
   ]
  },
  {
   "cell_type": "code",
   "execution_count": null,
   "metadata": {},
   "outputs": [],
   "source": [
    "print(\"Accuracy: %.2f\" %a)\n",
    "print(\"Precision: %.2f\" %p)\n",
    "print(\"Recall: %.2f\" %r)\n",
    "print(\"F1: %.2f\" %f1)\n"
   ]
  },
  {
   "cell_type": "code",
   "execution_count": null,
   "metadata": {},
   "outputs": [],
   "source": [
    "metrics.confusion_matrix(y_test, pred)"
   ]
  },
  {
   "cell_type": "code",
   "execution_count": null,
   "metadata": {},
   "outputs": [],
   "source": [
    "#probs\n",
    "t = probs[:,:1].tolist()\n",
    "data_df = pd.DataFrame(t)\n",
    "data_df"
   ]
  },
  {
   "cell_type": "code",
   "execution_count": null,
   "metadata": {},
   "outputs": [],
   "source": [
    "# save model as pickle dump\n",
    "pickle.dump(clf, open('SVMmodel.pkl', 'wb'))\n",
    "pickle.dump(X_train, open('X_train.pkl', 'wb'))\n",
    "pickle.dump(X_test, open('X_test.pkl', 'wb'))\n",
    "pickle.dump(y_train, open('y_train.pkl', 'wb'))\n",
    "pickle.dump(y_test, open('y_test.pkl', 'wb'))\n",
    "pickle.dump(data_df, open('df_prob.pkl', 'wb'))"
   ]
  }
 ],
 "metadata": {
  "interpreter": {
   "hash": "43c895e0004f5b495fc7ef57d82d5133dad918f2f104dc4f733c698658929bd7"
  },
  "kernelspec": {
   "display_name": "Python 3.9.1 64-bit",
   "language": "python",
   "name": "python3"
  },
  "language_info": {
   "codemirror_mode": {
    "name": "ipython",
    "version": 3
   },
   "file_extension": ".py",
   "mimetype": "text/x-python",
   "name": "python",
   "nbconvert_exporter": "python",
   "pygments_lexer": "ipython3",
   "version": "3.8.10"
  },
  "orig_nbformat": 4
 },
 "nbformat": 4,
 "nbformat_minor": 2
}
