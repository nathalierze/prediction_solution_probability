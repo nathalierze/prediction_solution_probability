{
 "cells": [
  {
   "cell_type": "code",
   "execution_count": 1,
   "metadata": {},
   "outputs": [],
   "source": [
    "import pandas as pd\n",
    "import xlsxwriter"
   ]
  },
  {
   "cell_type": "code",
   "execution_count": 2,
   "metadata": {},
   "outputs": [],
   "source": [
    "## read metrics and concat\n",
    "\n",
    "df_dte = pd.read_excel('dte_metrics.xlsx')\n",
    "df_nn = pd.read_excel('nn_metrics.xlsx')\n",
    "df_log = pd.read_excel('log_metrics.xlsx')\n",
    "df_svm = pd.read_excel('svm_metrics.xlsx')\n",
    "\n",
    "df = pd.concat([df_dte,df_nn])\n",
    "df = pd.concat([df,df_log])\n",
    "df = pd.concat([df,df_svm])\n",
    "\n",
    "df.to_excel('all_metrics.xlsx')\n",
    "df.to_pickle('all_metrics.pkl')"
   ]
  },
  {
   "cell_type": "code",
   "execution_count": 3,
   "metadata": {},
   "outputs": [],
   "source": [
    "## grouping \n",
    "\n",
    "grouped = df.groupby(df.group)\n",
    "df_abiEltern = grouped.get_group(\"abiEltern\")\n",
    "df_gender = grouped.get_group(\"gender\")\n",
    "df_erstsprache = grouped.get_group(\"erstsprache\")\n",
    "df_buecher = grouped.get_group(\"buecher\")"
   ]
  },
  {
   "cell_type": "code",
   "execution_count": 4,
   "metadata": {},
   "outputs": [],
   "source": [
    "## calculate PP, EO, SA, PE for each demographic group\n",
    "\n",
    "# gender\n",
    "df_gender = df_gender.drop(columns=['group', 'Unnamed: 0', 'Accuracy'])\n",
    "df_gender = pd.pivot_table(df_gender, values=[\"Precision\",\"Recall\",\"AUC\",\"FPR\"], index=[\"model\"], columns=[\"subgroup\"])\n",
    "df_gender['PP'] = df_gender.Precision.girls-df_gender.Precision.boys\n",
    "df_gender['EO'] = df_gender.Recall.boys-df_gender.Recall.girls\n",
    "df_gender['SA'] = df_gender.AUC.girls-df_gender.AUC.boys\n",
    "df_gender['PE'] = df_gender.FPR.boys-df_gender.FPR.girls\n",
    "\n",
    "# first language\n",
    "df_erstsprache = df_erstsprache.drop(columns=['group', 'Unnamed: 0', 'Accuracy'])\n",
    "df_erstsprache = pd.pivot_table(df_erstsprache, values=[\"Precision\",\"Recall\",\"AUC\",\"FPR\"], index=[\"model\"], columns=[\"subgroup\"])\n",
    "df_erstsprache['PP'] = df_erstsprache.Precision.deutsch-df_erstsprache.Precision.migration\n",
    "df_erstsprache['EO'] = df_erstsprache.Recall.migration-df_erstsprache.Recall.deutsch\n",
    "df_erstsprache['SA'] = df_erstsprache.AUC.deutsch-df_erstsprache.AUC.migration\n",
    "df_erstsprache['PE'] = df_erstsprache.FPR.migration-df_erstsprache.FPR.deutsch\n",
    "\n",
    "# HLE\n",
    "df_buecher = df_buecher.drop(columns=['group', 'Unnamed: 0', 'Accuracy'])\n",
    "df_buecher = pd.pivot_table(df_buecher, values=[\"Precision\",\"Recall\",\"AUC\",\"FPR\"], index=[\"model\"], columns=[\"subgroup\"])\n",
    "df_buecher['PP'] = df_buecher.Precision.buch1-df_buecher.Precision.buch0\n",
    "df_buecher['EO'] = df_buecher.Recall.buch0-df_buecher.Recall.buch1\n",
    "df_buecher['SA'] = df_buecher.AUC.buch1-df_buecher.AUC.buch0\n",
    "df_buecher['PE'] = df_buecher.FPR.buch0-df_buecher.FPR.buch1\n",
    "\n",
    "# parental education\n",
    "df_abiEltern = df_abiEltern.drop(columns=['group', 'Unnamed: 0', 'Accuracy'])\n",
    "df_abiEltern = pd.pivot_table(df_abiEltern, values=[\"Precision\",\"Recall\",\"AUC\",\"FPR\"], index=[\"model\"], columns=[\"subgroup\"])\n",
    "df_abiEltern['PP'] = df_abiEltern.Precision.abi-df_abiEltern.Precision.keinAbi\n",
    "df_abiEltern['EO'] = df_abiEltern.Recall.keinAbi-df_abiEltern.Recall.abi\n",
    "df_abiEltern['SA'] = df_abiEltern.AUC.abi-df_abiEltern.AUC.keinAbi\n",
    "df_abiEltern['PE'] = df_abiEltern.FPR.keinAbi-df_abiEltern.FPR.abi\n",
    "\n",
    "# cleaning\n",
    "df_buecher = df_buecher.drop(columns=['AUC','Precision','Recall','FPR'])\n",
    "df_erstsprache = df_erstsprache.drop(columns=['AUC','Precision','Recall','FPR'])\n",
    "df_gender = df_gender.drop(columns=['AUC','Precision','Recall','FPR'])\n",
    "df_abiEltern = df_abiEltern.drop(columns=['AUC','Precision','Recall','FPR'])\n",
    "\n",
    "df_buecher.columns = df_buecher.columns.droplevel(1)\n",
    "df_erstsprache.columns = df_erstsprache.columns.droplevel(1)\n",
    "df_gender.columns = df_gender.columns.droplevel(1)\n",
    "df_abiEltern.columns = df_abiEltern.columns.droplevel(1)\n",
    "\n",
    "df_buecher = pd.pivot_table(df_buecher, values=[\"PP\",\"EO\",\"SA\",\"PE\"],  columns=[\"model\"])\n",
    "df_gender = pd.pivot_table(df_gender, values=[\"PP\",\"EO\",\"SA\",\"PE\"], columns=[\"model\"])\n",
    "df_erstsprache = pd.pivot_table(df_erstsprache, values=[\"PP\",\"EO\",\"SA\",\"PE\"], columns=[\"model\"])\n",
    "df_abiEltern = pd.pivot_table(df_abiEltern, values=[\"PP\",\"EO\",\"SA\",\"PE\"], columns=[\"model\"])"
   ]
  },
  {
   "cell_type": "code",
   "execution_count": 5,
   "metadata": {},
   "outputs": [],
   "source": [
    "\"\"\"\n",
    "function to format results\n",
    "set two threshols: one at |0.02| in orange and one at |0.05| in red\n",
    "format all negative values in bold\n",
    "\"\"\"\n",
    "\n",
    "def threshold001(v, props=''):\n",
    "    return props if (v > 0.02) or (v < -0.02) else None\n",
    "\n",
    "def threshold005(v, props=''):\n",
    "    return props if (v > 0.05) or (v < -0.05) else None\n",
    "\n",
    "def negativeValue(v, props=''):\n",
    "    return props if (v < 0) else None\n",
    "\n",
    "def showTable(df):\n",
    "    styled = df.style.set_properties(color=\"black\", align=\"right\")\\\n",
    "        .set_properties(**{'background-color': 'white'})\\\n",
    "        .applymap(threshold001, props='color:orange;')\\\n",
    "        .applymap(threshold005, props='color:red;')\\\n",
    "        .applymap(negativeValue, props='font-weight:bold;')\n",
    "    return styled"
   ]
  },
  {
   "cell_type": "code",
   "execution_count": 6,
   "metadata": {},
   "outputs": [
    {
     "data": {
      "text/html": [
       "<style type=\"text/css\">\n",
       "#T_6dbd3_row0_col0, #T_6dbd3_row0_col2, #T_6dbd3_row0_col3, #T_6dbd3_row2_col0 {\n",
       "  color: black;\n",
       "  align: right;\n",
       "  background-color: white;\n",
       "}\n",
       "#T_6dbd3_row0_col1, #T_6dbd3_row1_col0, #T_6dbd3_row1_col1, #T_6dbd3_row1_col2, #T_6dbd3_row1_col3, #T_6dbd3_row2_col1, #T_6dbd3_row2_col2, #T_6dbd3_row2_col3, #T_6dbd3_row3_col0, #T_6dbd3_row3_col1, #T_6dbd3_row3_col2, #T_6dbd3_row3_col3 {\n",
       "  color: black;\n",
       "  align: right;\n",
       "  background-color: white;\n",
       "  font-weight: bold;\n",
       "}\n",
       "</style>\n",
       "<table id=\"T_6dbd3\">\n",
       "  <thead>\n",
       "    <tr>\n",
       "      <th class=\"index_name level0\" >model</th>\n",
       "      <th id=\"T_6dbd3_level0_col0\" class=\"col_heading level0 col0\" >DTE</th>\n",
       "      <th id=\"T_6dbd3_level0_col1\" class=\"col_heading level0 col1\" >LogReg</th>\n",
       "      <th id=\"T_6dbd3_level0_col2\" class=\"col_heading level0 col2\" >NN</th>\n",
       "      <th id=\"T_6dbd3_level0_col3\" class=\"col_heading level0 col3\" >SVM</th>\n",
       "    </tr>\n",
       "  </thead>\n",
       "  <tbody>\n",
       "    <tr>\n",
       "      <th id=\"T_6dbd3_level0_row0\" class=\"row_heading level0 row0\" >EO</th>\n",
       "      <td id=\"T_6dbd3_row0_col0\" class=\"data row0 col0\" >0.001718</td>\n",
       "      <td id=\"T_6dbd3_row0_col1\" class=\"data row0 col1\" >-0.001130</td>\n",
       "      <td id=\"T_6dbd3_row0_col2\" class=\"data row0 col2\" >0.000806</td>\n",
       "      <td id=\"T_6dbd3_row0_col3\" class=\"data row0 col3\" >0.000096</td>\n",
       "    </tr>\n",
       "    <tr>\n",
       "      <th id=\"T_6dbd3_level0_row1\" class=\"row_heading level0 row1\" >PE</th>\n",
       "      <td id=\"T_6dbd3_row1_col0\" class=\"data row1 col0\" >-0.001040</td>\n",
       "      <td id=\"T_6dbd3_row1_col1\" class=\"data row1 col1\" >-0.004562</td>\n",
       "      <td id=\"T_6dbd3_row1_col2\" class=\"data row1 col2\" >-0.003071</td>\n",
       "      <td id=\"T_6dbd3_row1_col3\" class=\"data row1 col3\" >-0.003988</td>\n",
       "    </tr>\n",
       "    <tr>\n",
       "      <th id=\"T_6dbd3_level0_row2\" class=\"row_heading level0 row2\" >PP</th>\n",
       "      <td id=\"T_6dbd3_row2_col0\" class=\"data row2 col0\" >0.000097</td>\n",
       "      <td id=\"T_6dbd3_row2_col1\" class=\"data row2 col1\" >-0.000999</td>\n",
       "      <td id=\"T_6dbd3_row2_col2\" class=\"data row2 col2\" >-0.000542</td>\n",
       "      <td id=\"T_6dbd3_row2_col3\" class=\"data row2 col3\" >-0.000912</td>\n",
       "    </tr>\n",
       "    <tr>\n",
       "      <th id=\"T_6dbd3_level0_row3\" class=\"row_heading level0 row3\" >SA</th>\n",
       "      <td id=\"T_6dbd3_row3_col0\" class=\"data row3 col0\" >-0.001379</td>\n",
       "      <td id=\"T_6dbd3_row3_col1\" class=\"data row3 col1\" >-0.001716</td>\n",
       "      <td id=\"T_6dbd3_row3_col2\" class=\"data row3 col2\" >-0.000180</td>\n",
       "      <td id=\"T_6dbd3_row3_col3\" class=\"data row3 col3\" >-0.002042</td>\n",
       "    </tr>\n",
       "  </tbody>\n",
       "</table>\n"
      ],
      "text/plain": [
       "<pandas.io.formats.style.Styler at 0x201316b3ee0>"
      ]
     },
     "execution_count": 6,
     "metadata": {},
     "output_type": "execute_result"
    }
   ],
   "source": [
    "s = showTable(df_gender)\n",
    "s"
   ]
  },
  {
   "cell_type": "code",
   "execution_count": 7,
   "metadata": {},
   "outputs": [
    {
     "data": {
      "text/html": [
       "<style type=\"text/css\">\n",
       "#T_8d0a7_row0_col0, #T_8d0a7_row0_col1, #T_8d0a7_row0_col2, #T_8d0a7_row0_col3 {\n",
       "  color: black;\n",
       "  align: right;\n",
       "  background-color: white;\n",
       "}\n",
       "#T_8d0a7_row1_col0, #T_8d0a7_row1_col1, #T_8d0a7_row1_col2, #T_8d0a7_row1_col3, #T_8d0a7_row2_col0, #T_8d0a7_row2_col1, #T_8d0a7_row2_col2, #T_8d0a7_row2_col3, #T_8d0a7_row3_col0, #T_8d0a7_row3_col1, #T_8d0a7_row3_col2, #T_8d0a7_row3_col3 {\n",
       "  color: black;\n",
       "  align: right;\n",
       "  background-color: white;\n",
       "  font-weight: bold;\n",
       "}\n",
       "</style>\n",
       "<table id=\"T_8d0a7\">\n",
       "  <thead>\n",
       "    <tr>\n",
       "      <th class=\"index_name level0\" >model</th>\n",
       "      <th id=\"T_8d0a7_level0_col0\" class=\"col_heading level0 col0\" >DTE</th>\n",
       "      <th id=\"T_8d0a7_level0_col1\" class=\"col_heading level0 col1\" >LogReg</th>\n",
       "      <th id=\"T_8d0a7_level0_col2\" class=\"col_heading level0 col2\" >NN</th>\n",
       "      <th id=\"T_8d0a7_level0_col3\" class=\"col_heading level0 col3\" >SVM</th>\n",
       "    </tr>\n",
       "  </thead>\n",
       "  <tbody>\n",
       "    <tr>\n",
       "      <th id=\"T_8d0a7_level0_row0\" class=\"row_heading level0 row0\" >EO</th>\n",
       "      <td id=\"T_8d0a7_row0_col0\" class=\"data row0 col0\" >0.005696</td>\n",
       "      <td id=\"T_8d0a7_row0_col1\" class=\"data row0 col1\" >0.006497</td>\n",
       "      <td id=\"T_8d0a7_row0_col2\" class=\"data row0 col2\" >0.005271</td>\n",
       "      <td id=\"T_8d0a7_row0_col3\" class=\"data row0 col3\" >0.006917</td>\n",
       "    </tr>\n",
       "    <tr>\n",
       "      <th id=\"T_8d0a7_level0_row1\" class=\"row_heading level0 row1\" >PE</th>\n",
       "      <td id=\"T_8d0a7_row1_col0\" class=\"data row1 col0\" >-0.002558</td>\n",
       "      <td id=\"T_8d0a7_row1_col1\" class=\"data row1 col1\" >-0.003803</td>\n",
       "      <td id=\"T_8d0a7_row1_col2\" class=\"data row1 col2\" >-0.002493</td>\n",
       "      <td id=\"T_8d0a7_row1_col3\" class=\"data row1 col3\" >-0.002501</td>\n",
       "    </tr>\n",
       "    <tr>\n",
       "      <th id=\"T_8d0a7_level0_row2\" class=\"row_heading level0 row2\" >PP</th>\n",
       "      <td id=\"T_8d0a7_row2_col0\" class=\"data row2 col0\" >-0.000427</td>\n",
       "      <td id=\"T_8d0a7_row2_col1\" class=\"data row2 col1\" >-0.000812</td>\n",
       "      <td id=\"T_8d0a7_row2_col2\" class=\"data row2 col2\" >-0.000388</td>\n",
       "      <td id=\"T_8d0a7_row2_col3\" class=\"data row2 col3\" >-0.000470</td>\n",
       "    </tr>\n",
       "    <tr>\n",
       "      <th id=\"T_8d0a7_level0_row3\" class=\"row_heading level0 row3\" >SA</th>\n",
       "      <td id=\"T_8d0a7_row3_col0\" class=\"data row3 col0\" >-0.004127</td>\n",
       "      <td id=\"T_8d0a7_row3_col1\" class=\"data row3 col1\" >-0.005150</td>\n",
       "      <td id=\"T_8d0a7_row3_col2\" class=\"data row3 col2\" >-0.000505</td>\n",
       "      <td id=\"T_8d0a7_row3_col3\" class=\"data row3 col3\" >-0.004709</td>\n",
       "    </tr>\n",
       "  </tbody>\n",
       "</table>\n"
      ],
      "text/plain": [
       "<pandas.io.formats.style.Styler at 0x20132363c10>"
      ]
     },
     "execution_count": 7,
     "metadata": {},
     "output_type": "execute_result"
    }
   ],
   "source": [
    "s = showTable(df_erstsprache)\n",
    "s"
   ]
  },
  {
   "cell_type": "code",
   "execution_count": 8,
   "metadata": {},
   "outputs": [
    {
     "data": {
      "text/html": [
       "<style type=\"text/css\">\n",
       "#T_d71a5_row0_col0, #T_d71a5_row0_col1, #T_d71a5_row0_col2, #T_d71a5_row0_col3 {\n",
       "  color: black;\n",
       "  align: right;\n",
       "  background-color: white;\n",
       "}\n",
       "#T_d71a5_row1_col0, #T_d71a5_row1_col1, #T_d71a5_row1_col2, #T_d71a5_row1_col3, #T_d71a5_row2_col0, #T_d71a5_row2_col1, #T_d71a5_row2_col2, #T_d71a5_row2_col3, #T_d71a5_row3_col0, #T_d71a5_row3_col1, #T_d71a5_row3_col2, #T_d71a5_row3_col3 {\n",
       "  color: black;\n",
       "  align: right;\n",
       "  background-color: white;\n",
       "  font-weight: bold;\n",
       "}\n",
       "</style>\n",
       "<table id=\"T_d71a5\">\n",
       "  <thead>\n",
       "    <tr>\n",
       "      <th class=\"index_name level0\" >model</th>\n",
       "      <th id=\"T_d71a5_level0_col0\" class=\"col_heading level0 col0\" >DTE</th>\n",
       "      <th id=\"T_d71a5_level0_col1\" class=\"col_heading level0 col1\" >LogReg</th>\n",
       "      <th id=\"T_d71a5_level0_col2\" class=\"col_heading level0 col2\" >NN</th>\n",
       "      <th id=\"T_d71a5_level0_col3\" class=\"col_heading level0 col3\" >SVM</th>\n",
       "    </tr>\n",
       "  </thead>\n",
       "  <tbody>\n",
       "    <tr>\n",
       "      <th id=\"T_d71a5_level0_row0\" class=\"row_heading level0 row0\" >EO</th>\n",
       "      <td id=\"T_d71a5_row0_col0\" class=\"data row0 col0\" >0.002680</td>\n",
       "      <td id=\"T_d71a5_row0_col1\" class=\"data row0 col1\" >0.004920</td>\n",
       "      <td id=\"T_d71a5_row0_col2\" class=\"data row0 col2\" >0.006950</td>\n",
       "      <td id=\"T_d71a5_row0_col3\" class=\"data row0 col3\" >0.008079</td>\n",
       "    </tr>\n",
       "    <tr>\n",
       "      <th id=\"T_d71a5_level0_row1\" class=\"row_heading level0 row1\" >PE</th>\n",
       "      <td id=\"T_d71a5_row1_col0\" class=\"data row1 col0\" >-0.007158</td>\n",
       "      <td id=\"T_d71a5_row1_col1\" class=\"data row1 col1\" >-0.004749</td>\n",
       "      <td id=\"T_d71a5_row1_col2\" class=\"data row1 col2\" >-0.004681</td>\n",
       "      <td id=\"T_d71a5_row1_col3\" class=\"data row1 col3\" >-0.003271</td>\n",
       "    </tr>\n",
       "    <tr>\n",
       "      <th id=\"T_d71a5_level0_row2\" class=\"row_heading level0 row2\" >PP</th>\n",
       "      <td id=\"T_d71a5_row2_col0\" class=\"data row2 col0\" >-0.001893</td>\n",
       "      <td id=\"T_d71a5_row2_col1\" class=\"data row2 col1\" >-0.001075</td>\n",
       "      <td id=\"T_d71a5_row2_col2\" class=\"data row2 col2\" >-0.001105</td>\n",
       "      <td id=\"T_d71a5_row2_col3\" class=\"data row2 col3\" >-0.000696</td>\n",
       "    </tr>\n",
       "    <tr>\n",
       "      <th id=\"T_d71a5_level0_row3\" class=\"row_heading level0 row3\" >SA</th>\n",
       "      <td id=\"T_d71a5_row3_col0\" class=\"data row3 col0\" >-0.004919</td>\n",
       "      <td id=\"T_d71a5_row3_col1\" class=\"data row3 col1\" >-0.004835</td>\n",
       "      <td id=\"T_d71a5_row3_col2\" class=\"data row3 col2\" >-0.000863</td>\n",
       "      <td id=\"T_d71a5_row3_col3\" class=\"data row3 col3\" >-0.005675</td>\n",
       "    </tr>\n",
       "  </tbody>\n",
       "</table>\n"
      ],
      "text/plain": [
       "<pandas.io.formats.style.Styler at 0x201316b1240>"
      ]
     },
     "execution_count": 8,
     "metadata": {},
     "output_type": "execute_result"
    }
   ],
   "source": [
    "s = showTable(df_abiEltern)\n",
    "s"
   ]
  },
  {
   "cell_type": "code",
   "execution_count": 9,
   "metadata": {},
   "outputs": [
    {
     "data": {
      "text/html": [
       "<style type=\"text/css\">\n",
       "#T_998d4_row0_col0, #T_998d4_row0_col1, #T_998d4_row0_col2, #T_998d4_row0_col3, #T_998d4_row1_col3 {\n",
       "  color: black;\n",
       "  align: right;\n",
       "  background-color: white;\n",
       "  font-weight: bold;\n",
       "}\n",
       "#T_998d4_row1_col0, #T_998d4_row1_col1, #T_998d4_row1_col2, #T_998d4_row2_col0, #T_998d4_row2_col1, #T_998d4_row2_col2, #T_998d4_row2_col3, #T_998d4_row3_col0, #T_998d4_row3_col1, #T_998d4_row3_col2, #T_998d4_row3_col3 {\n",
       "  color: black;\n",
       "  align: right;\n",
       "  background-color: white;\n",
       "}\n",
       "</style>\n",
       "<table id=\"T_998d4\">\n",
       "  <thead>\n",
       "    <tr>\n",
       "      <th class=\"index_name level0\" >model</th>\n",
       "      <th id=\"T_998d4_level0_col0\" class=\"col_heading level0 col0\" >DTE</th>\n",
       "      <th id=\"T_998d4_level0_col1\" class=\"col_heading level0 col1\" >LogReg</th>\n",
       "      <th id=\"T_998d4_level0_col2\" class=\"col_heading level0 col2\" >NN</th>\n",
       "      <th id=\"T_998d4_level0_col3\" class=\"col_heading level0 col3\" >SVM</th>\n",
       "    </tr>\n",
       "  </thead>\n",
       "  <tbody>\n",
       "    <tr>\n",
       "      <th id=\"T_998d4_level0_row0\" class=\"row_heading level0 row0\" >EO</th>\n",
       "      <td id=\"T_998d4_row0_col0\" class=\"data row0 col0\" >-0.006524</td>\n",
       "      <td id=\"T_998d4_row0_col1\" class=\"data row0 col1\" >-0.006835</td>\n",
       "      <td id=\"T_998d4_row0_col2\" class=\"data row0 col2\" >-0.000830</td>\n",
       "      <td id=\"T_998d4_row0_col3\" class=\"data row0 col3\" >-0.009373</td>\n",
       "    </tr>\n",
       "    <tr>\n",
       "      <th id=\"T_998d4_level0_row1\" class=\"row_heading level0 row1\" >PE</th>\n",
       "      <td id=\"T_998d4_row1_col0\" class=\"data row1 col0\" >0.000948</td>\n",
       "      <td id=\"T_998d4_row1_col1\" class=\"data row1 col1\" >0.000587</td>\n",
       "      <td id=\"T_998d4_row1_col2\" class=\"data row1 col2\" >0.002306</td>\n",
       "      <td id=\"T_998d4_row1_col3\" class=\"data row1 col3\" >-0.000007</td>\n",
       "    </tr>\n",
       "    <tr>\n",
       "      <th id=\"T_998d4_level0_row2\" class=\"row_heading level0 row2\" >PP</th>\n",
       "      <td id=\"T_998d4_row2_col0\" class=\"data row2 col0\" >0.000816</td>\n",
       "      <td id=\"T_998d4_row2_col1\" class=\"data row2 col1\" >0.000757</td>\n",
       "      <td id=\"T_998d4_row2_col2\" class=\"data row2 col2\" >0.001309</td>\n",
       "      <td id=\"T_998d4_row2_col3\" class=\"data row2 col3\" >0.000454</td>\n",
       "    </tr>\n",
       "    <tr>\n",
       "      <th id=\"T_998d4_level0_row3\" class=\"row_heading level0 row3\" >SA</th>\n",
       "      <td id=\"T_998d4_row3_col0\" class=\"data row3 col0\" >0.003736</td>\n",
       "      <td id=\"T_998d4_row3_col1\" class=\"data row3 col1\" >0.003711</td>\n",
       "      <td id=\"T_998d4_row3_col2\" class=\"data row3 col2\" >0.000313</td>\n",
       "      <td id=\"T_998d4_row3_col3\" class=\"data row3 col3\" >0.004683</td>\n",
       "    </tr>\n",
       "  </tbody>\n",
       "</table>\n"
      ],
      "text/plain": [
       "<pandas.io.formats.style.Styler at 0x201316b0e50>"
      ]
     },
     "execution_count": 9,
     "metadata": {},
     "output_type": "execute_result"
    }
   ],
   "source": [
    "s = showTable(df_buecher)\n",
    "s"
   ]
  },
  {
   "cell_type": "code",
   "execution_count": 10,
   "metadata": {},
   "outputs": [],
   "source": [
    "## save as excel\n",
    "\n",
    "writer = pd.ExcelWriter('fairness_double.xlsx', engine='xlsxwriter')\n",
    "\n",
    "df_gender.to_excel(writer, sheet_name='Gender')\n",
    "df_abiEltern.to_excel(writer, sheet_name='AbiEltern')\n",
    "df_erstsprache.to_excel(writer, sheet_name='ErstSprache')\n",
    "df_buecher.to_excel(writer, sheet_name='Buecher')\n",
    "writer.save()"
   ]
  }
 ],
 "metadata": {
  "kernelspec": {
   "display_name": "Python 3.10.2 64-bit",
   "language": "python",
   "name": "python3"
  },
  "language_info": {
   "codemirror_mode": {
    "name": "ipython",
    "version": 3
   },
   "file_extension": ".py",
   "mimetype": "text/x-python",
   "name": "python",
   "nbconvert_exporter": "python",
   "pygments_lexer": "ipython3",
   "version": "3.10.2"
  },
  "orig_nbformat": 4,
  "vscode": {
   "interpreter": {
    "hash": "369f2c481f4da34e4445cda3fffd2e751bd1c4d706f27375911949ba6bb62e1c"
   }
  }
 },
 "nbformat": 4,
 "nbformat_minor": 2
}
