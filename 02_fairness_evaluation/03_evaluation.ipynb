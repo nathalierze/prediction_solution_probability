{
 "cells": [
  {
   "cell_type": "code",
   "execution_count": null,
   "metadata": {},
   "outputs": [],
   "source": [
    "import pandas as pd\n",
    "import xlsxwriter"
   ]
  },
  {
   "cell_type": "code",
   "execution_count": null,
   "metadata": {},
   "outputs": [],
   "source": [
    "## read metrics and concat\n",
    "\n",
    "df_dte = pd.read_excel('dte_metrics.xlsx')\n",
    "df_nn = pd.read_excel('nn_metrics.xlsx')\n",
    "df_log = pd.read_excel('log_metrics.xlsx')\n",
    "df_svm = pd.read_excel('svm_metrics.xlsx')\n",
    "\n",
    "df = pd.concat([df_dte,df_nn])\n",
    "df = pd.concat([df,df_log])\n",
    "df = pd.concat([df,df_svm])\n",
    "\n",
    "df.to_excel('all_metrics.xlsx')\n",
    "df.to_pickle('all_metrics.pkl')"
   ]
  },
  {
   "cell_type": "code",
   "execution_count": null,
   "metadata": {},
   "outputs": [],
   "source": [
    "## grouping \n",
    "\n",
    "grouped = df.groupby(df.group)\n",
    "df_abiEltern = grouped.get_group(\"abiEltern\")\n",
    "df_gender = grouped.get_group(\"gender\")\n",
    "df_erstsprache = grouped.get_group(\"erstsprache\")\n",
    "df_buecher = grouped.get_group(\"buecher\")"
   ]
  },
  {
   "cell_type": "code",
   "execution_count": null,
   "metadata": {},
   "outputs": [],
   "source": [
    "## calculate PP, EO, SA, PE for each demographic group\n",
    "\n",
    "# gender\n",
    "df_gender = df_gender.drop(columns=['group', 'Unnamed: 0', 'Accuracy'])\n",
    "df_gender = pd.pivot_table(df_gender, values=[\"Precision\",\"Recall\",\"AUC\",\"FPR\"], index=[\"model\"], columns=[\"subgroup\"])\n",
    "df_gender['PP'] = df_gender.Precision.girls-df_gender.Precision.boys\n",
    "df_gender['EO'] = df_gender.Recall.boys-df_gender.Recall.girls\n",
    "df_gender['SA'] = df_gender.AUC.girls-df_gender.AUC.boys\n",
    "df_gender['PE'] = df_gender.FPR.boys-df_gender.FPR.girls\n",
    "\n",
    "# first language\n",
    "df_erstsprache = df_erstsprache.drop(columns=['group', 'Unnamed: 0', 'Accuracy'])\n",
    "df_erstsprache = pd.pivot_table(df_erstsprache, values=[\"Precision\",\"Recall\",\"AUC\",\"FPR\"], index=[\"model\"], columns=[\"subgroup\"])\n",
    "df_erstsprache['PP'] = df_erstsprache.Precision.deutsch-df_erstsprache.Precision.migration\n",
    "df_erstsprache['EO'] = df_erstsprache.Recall.migration-df_erstsprache.Recall.deutsch\n",
    "df_erstsprache['SA'] = df_erstsprache.AUC.deutsch-df_erstsprache.AUC.migration\n",
    "df_erstsprache['PE'] = df_erstsprache.FPR.migration-df_erstsprache.FPR.deutsch\n",
    "\n",
    "# HLE\n",
    "df_buecher = df_buecher.drop(columns=['group', 'Unnamed: 0', 'Accuracy'])\n",
    "df_buecher = pd.pivot_table(df_buecher, values=[\"Precision\",\"Recall\",\"AUC\",\"FPR\"], index=[\"model\"], columns=[\"subgroup\"])\n",
    "df_buecher['PP'] = df_buecher.Precision.buch1-df_buecher.Precision.buch0\n",
    "df_buecher['EO'] = df_buecher.Recall.buch0-df_buecher.Recall.buch1\n",
    "df_buecher['SA'] = df_buecher.AUC.buch1-df_buecher.AUC.buch0\n",
    "df_buecher['PE'] = df_buecher.FPR.buch0-df_buecher.FPR.buch1\n",
    "\n",
    "# parental education\n",
    "df_abiEltern = df_abiEltern.drop(columns=['group', 'Unnamed: 0', 'Accuracy'])\n",
    "df_abiEltern = pd.pivot_table(df_abiEltern, values=[\"Precision\",\"Recall\",\"AUC\",\"FPR\"], index=[\"model\"], columns=[\"subgroup\"])\n",
    "df_abiEltern['PP'] = df_abiEltern.Precision.abi-df_abiEltern.Precision.keinAbi\n",
    "df_abiEltern['EO'] = df_abiEltern.Recall.keinAbi-df_abiEltern.Recall.abi\n",
    "df_abiEltern['SA'] = df_abiEltern.AUC.abi-df_abiEltern.AUC.keinAbi\n",
    "df_abiEltern['PE'] = df_abiEltern.FPR.keinAbi-df_abiEltern.FPR.abi\n",
    "\n",
    "# cleaning\n",
    "df_buecher = df_buecher.drop(columns=['AUC','Precision','Recall','FPR'])\n",
    "df_erstsprache = df_erstsprache.drop(columns=['AUC','Precision','Recall','FPR'])\n",
    "df_gender = df_gender.drop(columns=['AUC','Precision','Recall','FPR'])\n",
    "df_abiEltern = df_abiEltern.drop(columns=['AUC','Precision','Recall','FPR'])\n",
    "\n",
    "df_buecher.columns = df_buecher.columns.droplevel(1)\n",
    "df_erstsprache.columns = df_erstsprache.columns.droplevel(1)\n",
    "df_gender.columns = df_gender.columns.droplevel(1)\n",
    "df_abiEltern.columns = df_abiEltern.columns.droplevel(1)\n",
    "\n",
    "df_buecher = pd.pivot_table(df_buecher, values=[\"PP\",\"EO\",\"SA\",\"PE\"],  columns=[\"model\"])\n",
    "df_gender = pd.pivot_table(df_gender, values=[\"PP\",\"EO\",\"SA\",\"PE\"], columns=[\"model\"])\n",
    "df_erstsprache = pd.pivot_table(df_erstsprache, values=[\"PP\",\"EO\",\"SA\",\"PE\"], columns=[\"model\"])\n",
    "df_abiEltern = pd.pivot_table(df_abiEltern, values=[\"PP\",\"EO\",\"SA\",\"PE\"], columns=[\"model\"])"
   ]
  },
  {
   "cell_type": "code",
   "execution_count": null,
   "metadata": {},
   "outputs": [],
   "source": [
    "\"\"\"\n",
    "function to format results\n",
    "set two threshols: one at |0.02| in orange and one at |0.05| in red\n",
    "format all negative values in bold\n",
    "\"\"\"\n",
    "\n",
    "def threshold001(v, props=''):\n",
    "    return props if (v > 0.02) or (v < -0.02) else None\n",
    "\n",
    "def threshold005(v, props=''):\n",
    "    return props if (v > 0.05) or (v < -0.05) else None\n",
    "\n",
    "def negativeValue(v, props=''):\n",
    "    return props if (v < 0) else None\n",
    "\n",
    "def showTable(df):\n",
    "    styled = df.style.set_properties(color=\"black\", align=\"right\")\\\n",
    "        .set_properties(**{'background-color': 'white'})\\\n",
    "        .applymap(threshold001, props='color:orange;')\\\n",
    "        .applymap(threshold005, props='color:red;')\\\n",
    "        .applymap(negativeValue, props='font-weight:bold;')\n",
    "    return styled"
   ]
  },
  {
   "cell_type": "code",
   "execution_count": null,
   "metadata": {},
   "outputs": [],
   "source": [
    "s = showTable(df_gender)\n",
    "s"
   ]
  },
  {
   "cell_type": "code",
   "execution_count": null,
   "metadata": {},
   "outputs": [],
   "source": [
    "s = showTable(df_erstsprache)\n",
    "s"
   ]
  },
  {
   "cell_type": "code",
   "execution_count": null,
   "metadata": {},
   "outputs": [],
   "source": [
    "s = showTable(df_abiEltern)\n",
    "s"
   ]
  },
  {
   "cell_type": "code",
   "execution_count": null,
   "metadata": {},
   "outputs": [],
   "source": [
    "s = showTable(df_buecher)\n",
    "s"
   ]
  },
  {
   "cell_type": "code",
   "execution_count": null,
   "metadata": {},
   "outputs": [],
   "source": [
    "## save as excel\n",
    "\n",
    "writer = pd.ExcelWriter('fairness_double.xlsx', engine='xlsxwriter')\n",
    "\n",
    "df_gender.to_excel(writer, sheet_name='Gender')\n",
    "df_abiEltern.to_excel(writer, sheet_name='AbiEltern')\n",
    "df_erstsprache.to_excel(writer, sheet_name='ErstSprache')\n",
    "df_buecher.to_excel(writer, sheet_name='Buecher')\n",
    "writer.save()"
   ]
  }
 ],
 "metadata": {
  "kernelspec": {
   "display_name": "Python 3.10.2 64-bit",
   "language": "python",
   "name": "python3"
  },
  "language_info": {
   "codemirror_mode": {
    "name": "ipython",
    "version": 3
   },
   "file_extension": ".py",
   "mimetype": "text/x-python",
   "name": "python",
   "nbconvert_exporter": "python",
   "pygments_lexer": "ipython3",
   "version": "3.10.2"
  },
  "orig_nbformat": 4,
  "vscode": {
   "interpreter": {
    "hash": "369f2c481f4da34e4445cda3fffd2e751bd1c4d706f27375911949ba6bb62e1c"
   }
  }
 },
 "nbformat": 4,
 "nbformat_minor": 2
}
