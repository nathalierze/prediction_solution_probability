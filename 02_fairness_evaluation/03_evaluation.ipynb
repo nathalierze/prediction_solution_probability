{
 "cells": [
  {
   "cell_type": "code",
   "execution_count": null,
   "metadata": {},
   "outputs": [],
   "source": [
    "import pandas as pd\n",
    "import xlsxwriter"
   ]
  },
  {
   "cell_type": "code",
   "execution_count": null,
   "metadata": {},
   "outputs": [],
   "source": [
    "## read metrics and concat\n",
    "\n",
    "df_dte = pd.read_excel('dte_metrics.xlsx')\n",
    "df_nn = pd.read_excel('nn_metrics.xlsx')\n",
    "df_log = pd.read_excel('log_metrics.xlsx')\n",
    "df_svm = pd.read_excel('svm_metrics.xlsx')\n",
    "\n",
    "df = pd.concat([df_dte,df_nn])\n",
    "df = pd.concat([df,df_log])\n",
    "df = pd.concat([df,df_svm])\n",
    "\n",
    "df.to_excel('all_metrics.xlsx')\n",
    "df.to_pickle('all_metrics.pkl')"
   ]
  },
  {
   "cell_type": "code",
   "execution_count": null,
   "metadata": {},
   "outputs": [],
   "source": [
    "## grouping \n",
    "\n",
    "grouped = df.groupby(df.group)\n",
    "df_abiEltern = grouped.get_group(\"abiEltern\")\n",
    "df_gender = grouped.get_group(\"gender\")\n",
    "df_erstsprache = grouped.get_group(\"erstsprache\")\n",
    "df_buecher = grouped.get_group(\"buecher\")"
   ]
  },
  {
   "cell_type": "code",
   "execution_count": null,
   "metadata": {},
   "outputs": [],
   "source": [
    "\"\"\"\n",
    "Function calculates fairness metrics pp, eo, sa and pe and return pivoted table\n",
    "\"\"\"\n",
    "def calculate_metrics(df, group_col, pp_col, eo_col, sa_col, pe_col, advantaged_group, disadvantaged_group):\n",
    "    df = df.drop(columns=['group', 'Unnamed: 0', 'Accuracy'])\n",
    "    df = pd.pivot_table(df, values=[\"Precision\",\"Recall\",\"AUC\",\"FPR\"], index=[\"model\"], columns=[group_col])\n",
    "    df[pp_col] = df.Precision[advantaged_group] - df.Precision[disadvantaged_group]\n",
    "    df[eo_col] = df.Recall[disadvantaged_group] - df.Recall[advantaged_group]\n",
    "    df[sa_col] = df.AUC[advantaged_group] - df.AUC[disadvantaged_group]\n",
    "    df[pe_col] = df.FPR[disadvantaged_group] - df.FPR[advantaged_group]\n",
    "    df = df.drop(columns=['AUC','Precision','Recall','FPR'])\n",
    "    df.columns = df.columns.droplevel(1)\n",
    "    df = pd.pivot_table(df, values=[pp_col,eo_col,sa_col,pe_col], columns=[\"model\"])\n",
    "    return df\n",
    "\n",
    "# gender\n",
    "df_gender = calculate_metrics(df_gender, 'subgroup', 'PP', 'EO', 'SA', 'PE','girls','boys')\n",
    "\n",
    "# first language\n",
    "df_erstsprache = calculate_metrics(df_erstsprache, 'subgroup', 'PP', 'EO', 'SA', 'PE','deutsch','migration')\n",
    "\n",
    "# HLE\n",
    "df_buecher = calculate_metrics(df_buecher, 'subgroup', 'PP', 'EO', 'SA', 'PE','buch1','buch0')\n",
    "\n",
    "# parental education\n",
    "df_abiEltern = calculate_metrics(df_abiEltern, 'subgroup', 'PP', 'EO', 'SA', 'PE','abi','keinAbi')\n"
   ]
  },
  {
   "cell_type": "code",
   "execution_count": null,
   "metadata": {},
   "outputs": [],
   "source": [
    "\"\"\"\n",
    "function to format results\n",
    "set two threshols: one at |0.02| in orange and one at |0.05| in red\n",
    "format all negative values in bold\n",
    "\"\"\"\n",
    "\n",
    "def threshold001(v, props=''):\n",
    "    return props if (v > 0.02) or (v < -0.02) else None\n",
    "\n",
    "def threshold005(v, props=''):\n",
    "    return props if (v > 0.05) or (v < -0.05) else None\n",
    "\n",
    "def negativeValue(v, props=''):\n",
    "    return props if (v < 0) else None\n",
    "\n",
    "def showTable(df):\n",
    "    styled = df.style.set_properties(color=\"black\", align=\"right\")\\\n",
    "        .set_properties(**{'background-color': 'white'})\\\n",
    "        .applymap(threshold001, props='color:orange;')\\\n",
    "        .applymap(threshold005, props='color:red;')\\\n",
    "        .applymap(negativeValue, props='font-weight:bold;')\n",
    "    return styled"
   ]
  },
  {
   "cell_type": "code",
   "execution_count": null,
   "metadata": {},
   "outputs": [],
   "source": [
    "s = showTable(df_gender)\n",
    "s"
   ]
  },
  {
   "cell_type": "code",
   "execution_count": null,
   "metadata": {},
   "outputs": [],
   "source": [
    "s = showTable(df_erstsprache)\n",
    "s"
   ]
  },
  {
   "cell_type": "code",
   "execution_count": null,
   "metadata": {},
   "outputs": [],
   "source": [
    "s = showTable(df_abiEltern)\n",
    "s"
   ]
  },
  {
   "cell_type": "code",
   "execution_count": null,
   "metadata": {},
   "outputs": [],
   "source": [
    "s = showTable(df_buecher)\n",
    "s"
   ]
  },
  {
   "cell_type": "code",
   "execution_count": null,
   "metadata": {},
   "outputs": [],
   "source": [
    "## save as excel\n",
    "\n",
    "writer = pd.ExcelWriter('fairness_double.xlsx', engine='xlsxwriter')\n",
    "\n",
    "df_gender.to_excel(writer, sheet_name='Gender')\n",
    "df_abiEltern.to_excel(writer, sheet_name='AbiEltern')\n",
    "df_erstsprache.to_excel(writer, sheet_name='ErstSprache')\n",
    "df_buecher.to_excel(writer, sheet_name='Buecher')\n",
    "writer.save()"
   ]
  }
 ],
 "metadata": {
  "kernelspec": {
   "display_name": "Python 3.10.2 64-bit",
   "language": "python",
   "name": "python3"
  },
  "language_info": {
   "codemirror_mode": {
    "name": "ipython",
    "version": 3
   },
   "file_extension": ".py",
   "mimetype": "text/x-python",
   "name": "python",
   "nbconvert_exporter": "python",
   "pygments_lexer": "ipython3",
   "version": "3.10.2"
  },
  "orig_nbformat": 4,
  "vscode": {
   "interpreter": {
    "hash": "369f2c481f4da34e4445cda3fffd2e751bd1c4d706f27375911949ba6bb62e1c"
   }
  }
 },
 "nbformat": 4,
 "nbformat_minor": 2
}
